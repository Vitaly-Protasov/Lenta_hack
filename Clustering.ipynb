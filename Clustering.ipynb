{
  "nbformat": 4,
  "nbformat_minor": 0,
  "metadata": {
    "colab": {
      "name": "Lenta_Hack.ipynb",
      "provenance": [],
      "collapsed_sections": [],
      "toc_visible": true
    },
    "kernelspec": {
      "name": "python3",
      "display_name": "Python 3"
    }
  },
  "cells": [
    {
      "cell_type": "markdown",
      "metadata": {
        "id": "dl65j2W8--51"
      },
      "source": [
        "# Preprocessing part with clustering algorithm in order to get clusters by RFMV values\n",
        "\n"
      ]
    },
    {
      "cell_type": "markdown",
      "metadata": {
        "id": "B9luJSfo_Off"
      },
      "source": [
        "### Among numerous metrics exists in retail and consumer goods industry, recency (R), frequency (F), and monetary (M) are often utilized in valuating customer. Marketers at times use variety (V) as well. Hence, we utilize all four metrics, abbreviated RFMV in our customer feature analysis."
      ]
    },
    {
      "cell_type": "code",
      "metadata": {
        "id": "evLaNZ1cUwFL",
        "outputId": "4d8ee498-bfda-4feb-f46c-6e58cf3ed365",
        "colab": {
          "base_uri": "https://localhost:8080/",
          "height": 70
        }
      },
      "source": [
        "import pandas as pd\n",
        "import numpy as np\n",
        "\n",
        "import seaborn as sns\n",
        "import matplotlib.pyplot as plt\n",
        "\n",
        "from sklearn.cluster import KMeans\n",
        "from sklearn.preprocessing import MinMaxScaler\n",
        "import os\n",
        "\n",
        "\n",
        "import scipy.sparse as sparse\n",
        "\n",
        "\n",
        "%matplotlib inline"
      ],
      "execution_count": 3,
      "outputs": [
        {
          "output_type": "stream",
          "text": [
            "/usr/local/lib/python3.6/dist-packages/statsmodels/tools/_testing.py:19: FutureWarning: pandas.util.testing is deprecated. Use the functions in the public API at pandas.testing instead.\n",
            "  import pandas.util.testing as tm\n"
          ],
          "name": "stderr"
        }
      ]
    },
    {
      "cell_type": "code",
      "metadata": {
        "id": "giaIQjJDdh0I"
      },
      "source": [
        "!pip install -U pyarrow  > /dev/null"
      ],
      "execution_count": null,
      "outputs": []
    },
    {
      "cell_type": "code",
      "metadata": {
        "id": "CB5okYYVj2yu",
        "outputId": "90361ef8-9248-40a9-fcf9-24735ced13dc",
        "colab": {
          "base_uri": "https://localhost:8080/",
          "height": 34
        }
      },
      "source": [
        "try:\n",
        "    import google.colab\n",
        "    IN_COLAB = True\n",
        "except ImportError:\n",
        "    IN_COLAB = False\n",
        "\n",
        "from pathlib import Path\n",
        "if IN_COLAB:\n",
        "    google.colab.drive.mount(\"/content/drive\")\n",
        "    \n",
        "    AUX_DATA_ROOT = Path(\"/content/drive/My Drive/NEW_HACK_DATA\")\n",
        "    \n",
        "    assert AUX_DATA_ROOT.is_dir(), \"Have you forgot to 'Add a shortcut to Drive'?\"\n",
        "    \n",
        "    import sys\n",
        "    sys.path.insert(0, str(AUX_DATA_ROOT))\n",
        "else:\n",
        "    AUX_DATA_ROOT = Path(\".\")"
      ],
      "execution_count": null,
      "outputs": [
        {
          "output_type": "stream",
          "text": [
            "Drive already mounted at /content/drive; to attempt to forcibly remount, call drive.mount(\"/content/drive\", force_remount=True).\n"
          ],
          "name": "stdout"
        }
      ]
    },
    {
      "cell_type": "code",
      "metadata": {
        "id": "ZRWq4XcMgodq"
      },
      "source": [
        "from IPython.display import display, HTML\n",
        "\n",
        "def print_df(df):\n",
        "    display(HTML(df.to_html()))\n",
        "\n",
        "from IPython.core.interactiveshell import InteractiveShell\n",
        "InteractiveShell.ast_node_interactivity = \"all\""
      ],
      "execution_count": null,
      "outputs": []
    },
    {
      "cell_type": "code",
      "metadata": {
        "id": "71FeNvowwYK8"
      },
      "source": [
        "!pip install dask[dataframe] > /dev/null\n",
        "\n",
        "import dask.dataframe as dd"
      ],
      "execution_count": null,
      "outputs": []
    },
    {
      "cell_type": "markdown",
      "metadata": {
        "id": "XwbCEHgq_im_"
      },
      "source": [
        "# 1) Downloading data from the encoding part"
      ]
    },
    {
      "cell_type": "code",
      "metadata": {
        "id": "9fjP7j6Yd2Tg"
      },
      "source": [
        "trans = pd.read_parquet(os.path.join(AUX_DATA_ROOT, 't.parquet'), engine='pyarrow', use_threads=True)\n",
        "clients = pd.read_csv(os.path.join(AUX_DATA_ROOT, 'c.csv'))\n",
        "materials = pd.read_csv(os.path.join(AUX_DATA_ROOT, 'm.csv'))\n",
        "plants = pd.read_csv(os.path.join(AUX_DATA_ROOT, 'p.csv'))"
      ],
      "execution_count": null,
      "outputs": []
    },
    {
      "cell_type": "code",
      "metadata": {
        "id": "qVNbzrfvehPW",
        "outputId": "c44e1111-8448-490a-9c3f-7b2c6522e15c",
        "colab": {
          "base_uri": "https://localhost:8080/",
          "height": 552
        }
      },
      "source": [
        "print(clients.shape)\n",
        "print('birthyear unique values:', clients.birthyear.nunique())\n",
        "print('city unique values:', clients.city.nunique())\n",
        "print('ids unique values:', clients.client_id.nunique())\n",
        "\n",
        "clients.describe()\n",
        "\n",
        "clients.head()"
      ],
      "execution_count": null,
      "outputs": [
        {
          "output_type": "stream",
          "text": [
            "(99995, 5)\n",
            "birthyear unique values: 108\n",
            "city unique values: 3\n",
            "ids unique values: 99995\n"
          ],
          "name": "stdout"
        },
        {
          "output_type": "execute_result",
          "data": {
            "text/html": [
              "<div>\n",
              "<style scoped>\n",
              "    .dataframe tbody tr th:only-of-type {\n",
              "        vertical-align: middle;\n",
              "    }\n",
              "\n",
              "    .dataframe tbody tr th {\n",
              "        vertical-align: top;\n",
              "    }\n",
              "\n",
              "    .dataframe thead th {\n",
              "        text-align: right;\n",
              "    }\n",
              "</style>\n",
              "<table border=\"1\" class=\"dataframe\">\n",
              "  <thead>\n",
              "    <tr style=\"text-align: right;\">\n",
              "      <th></th>\n",
              "      <th>Unnamed: 0</th>\n",
              "      <th>client_id</th>\n",
              "      <th>gender</th>\n",
              "      <th>city</th>\n",
              "    </tr>\n",
              "  </thead>\n",
              "  <tbody>\n",
              "    <tr>\n",
              "      <th>count</th>\n",
              "      <td>99995.000000</td>\n",
              "      <td>99995.000000</td>\n",
              "      <td>99995.000000</td>\n",
              "      <td>99995.000000</td>\n",
              "    </tr>\n",
              "    <tr>\n",
              "      <th>mean</th>\n",
              "      <td>49997.000000</td>\n",
              "      <td>49998.959478</td>\n",
              "      <td>0.410721</td>\n",
              "      <td>1.079604</td>\n",
              "    </tr>\n",
              "    <tr>\n",
              "      <th>std</th>\n",
              "      <td>28866.214421</td>\n",
              "      <td>28867.703896</td>\n",
              "      <td>0.499131</td>\n",
              "      <td>0.426092</td>\n",
              "    </tr>\n",
              "    <tr>\n",
              "      <th>min</th>\n",
              "      <td>0.000000</td>\n",
              "      <td>0.000000</td>\n",
              "      <td>0.000000</td>\n",
              "      <td>0.000000</td>\n",
              "    </tr>\n",
              "    <tr>\n",
              "      <th>25%</th>\n",
              "      <td>24998.500000</td>\n",
              "      <td>24999.500000</td>\n",
              "      <td>0.000000</td>\n",
              "      <td>1.000000</td>\n",
              "    </tr>\n",
              "    <tr>\n",
              "      <th>50%</th>\n",
              "      <td>49997.000000</td>\n",
              "      <td>49999.000000</td>\n",
              "      <td>0.000000</td>\n",
              "      <td>1.000000</td>\n",
              "    </tr>\n",
              "    <tr>\n",
              "      <th>75%</th>\n",
              "      <td>74995.500000</td>\n",
              "      <td>74998.500000</td>\n",
              "      <td>1.000000</td>\n",
              "      <td>1.000000</td>\n",
              "    </tr>\n",
              "    <tr>\n",
              "      <th>max</th>\n",
              "      <td>99994.000000</td>\n",
              "      <td>99999.000000</td>\n",
              "      <td>2.000000</td>\n",
              "      <td>2.000000</td>\n",
              "    </tr>\n",
              "  </tbody>\n",
              "</table>\n",
              "</div>"
            ],
            "text/plain": [
              "         Unnamed: 0     client_id        gender          city\n",
              "count  99995.000000  99995.000000  99995.000000  99995.000000\n",
              "mean   49997.000000  49998.959478      0.410721      1.079604\n",
              "std    28866.214421  28867.703896      0.499131      0.426092\n",
              "min        0.000000      0.000000      0.000000      0.000000\n",
              "25%    24998.500000  24999.500000      0.000000      1.000000\n",
              "50%    49997.000000  49999.000000      0.000000      1.000000\n",
              "75%    74995.500000  74998.500000      1.000000      1.000000\n",
              "max    99994.000000  99999.000000      2.000000      2.000000"
            ]
          },
          "metadata": {
            "tags": []
          },
          "execution_count": 8
        },
        {
          "output_type": "execute_result",
          "data": {
            "text/html": [
              "<div>\n",
              "<style scoped>\n",
              "    .dataframe tbody tr th:only-of-type {\n",
              "        vertical-align: middle;\n",
              "    }\n",
              "\n",
              "    .dataframe tbody tr th {\n",
              "        vertical-align: top;\n",
              "    }\n",
              "\n",
              "    .dataframe thead th {\n",
              "        text-align: right;\n",
              "    }\n",
              "</style>\n",
              "<table border=\"1\" class=\"dataframe\">\n",
              "  <thead>\n",
              "    <tr style=\"text-align: right;\">\n",
              "      <th></th>\n",
              "      <th>Unnamed: 0</th>\n",
              "      <th>client_id</th>\n",
              "      <th>gender</th>\n",
              "      <th>city</th>\n",
              "      <th>birthyear</th>\n",
              "    </tr>\n",
              "  </thead>\n",
              "  <tbody>\n",
              "    <tr>\n",
              "      <th>0</th>\n",
              "      <td>0</td>\n",
              "      <td>10144</td>\n",
              "      <td>1</td>\n",
              "      <td>1</td>\n",
              "      <td>1990.0</td>\n",
              "    </tr>\n",
              "    <tr>\n",
              "      <th>1</th>\n",
              "      <td>1</td>\n",
              "      <td>61042</td>\n",
              "      <td>0</td>\n",
              "      <td>1</td>\n",
              "      <td>1969.0</td>\n",
              "    </tr>\n",
              "    <tr>\n",
              "      <th>2</th>\n",
              "      <td>2</td>\n",
              "      <td>83456</td>\n",
              "      <td>1</td>\n",
              "      <td>1</td>\n",
              "      <td>1976.0</td>\n",
              "    </tr>\n",
              "    <tr>\n",
              "      <th>3</th>\n",
              "      <td>3</td>\n",
              "      <td>7725</td>\n",
              "      <td>0</td>\n",
              "      <td>0</td>\n",
              "      <td>1966.0</td>\n",
              "    </tr>\n",
              "    <tr>\n",
              "      <th>4</th>\n",
              "      <td>4</td>\n",
              "      <td>12977</td>\n",
              "      <td>0</td>\n",
              "      <td>1</td>\n",
              "      <td>1988.0</td>\n",
              "    </tr>\n",
              "  </tbody>\n",
              "</table>\n",
              "</div>"
            ],
            "text/plain": [
              "   Unnamed: 0  client_id  gender  city birthyear\n",
              "0           0      10144       1     1    1990.0\n",
              "1           1      61042       0     1    1969.0\n",
              "2           2      83456       1     1    1976.0\n",
              "3           3       7725       0     0    1966.0\n",
              "4           4      12977       0     1    1988.0"
            ]
          },
          "metadata": {
            "tags": []
          },
          "execution_count": 8
        }
      ]
    },
    {
      "cell_type": "code",
      "metadata": {
        "id": "vOztsJ_ek_Js",
        "outputId": "cc065a0e-bc07-447c-aece-945b58ff32f1",
        "colab": {
          "base_uri": "https://localhost:8080/",
          "height": 323
        }
      },
      "source": [
        "materials = materials.iloc[:,1:]\n",
        "print(materials.shape)\n",
        "print('vendor unique values:', materials.vendor.nunique())\n",
        "print('hier_level_1 unique values:', materials.hier_level_1.nunique())\n",
        "print('hier_level_2 unique values:', materials.hier_level_2.nunique())\n",
        "print('hier_level_3 unique values:', materials.hier_level_3.nunique())\n",
        "print('hier_level_4 unique values:', materials.hier_level_4.nunique())\n",
        "\n",
        "print('vendors unique values for is_private_label==1:', materials.loc[materials.is_private_label==1, 'vendor'].nunique())\n",
        "\n",
        "materials.head()"
      ],
      "execution_count": null,
      "outputs": [
        {
          "output_type": "stream",
          "text": [
            "(105609, 8)\n",
            "vendor unique values: 4185\n",
            "hier_level_1 unique values: 2\n",
            "hier_level_2 unique values: 60\n",
            "hier_level_3 unique values: 391\n",
            "hier_level_4 unique values: 2006\n",
            "vendors unique values for is_private_label==1: 1096\n"
          ],
          "name": "stdout"
        },
        {
          "output_type": "execute_result",
          "data": {
            "text/html": [
              "<div>\n",
              "<style scoped>\n",
              "    .dataframe tbody tr th:only-of-type {\n",
              "        vertical-align: middle;\n",
              "    }\n",
              "\n",
              "    .dataframe tbody tr th {\n",
              "        vertical-align: top;\n",
              "    }\n",
              "\n",
              "    .dataframe thead th {\n",
              "        text-align: right;\n",
              "    }\n",
              "</style>\n",
              "<table border=\"1\" class=\"dataframe\">\n",
              "  <thead>\n",
              "    <tr style=\"text-align: right;\">\n",
              "      <th></th>\n",
              "      <th>material</th>\n",
              "      <th>hier_level_1</th>\n",
              "      <th>hier_level_2</th>\n",
              "      <th>hier_level_3</th>\n",
              "      <th>hier_level_4</th>\n",
              "      <th>vendor</th>\n",
              "      <th>is_private_label</th>\n",
              "      <th>is_alco</th>\n",
              "    </tr>\n",
              "  </thead>\n",
              "  <tbody>\n",
              "    <tr>\n",
              "      <th>0</th>\n",
              "      <td>21972</td>\n",
              "      <td>1</td>\n",
              "      <td>56</td>\n",
              "      <td>250</td>\n",
              "      <td>1220</td>\n",
              "      <td>551</td>\n",
              "      <td>0</td>\n",
              "      <td>0</td>\n",
              "    </tr>\n",
              "    <tr>\n",
              "      <th>1</th>\n",
              "      <td>79310</td>\n",
              "      <td>1</td>\n",
              "      <td>56</td>\n",
              "      <td>250</td>\n",
              "      <td>1748</td>\n",
              "      <td>2519</td>\n",
              "      <td>0</td>\n",
              "      <td>0</td>\n",
              "    </tr>\n",
              "    <tr>\n",
              "      <th>2</th>\n",
              "      <td>99398</td>\n",
              "      <td>1</td>\n",
              "      <td>56</td>\n",
              "      <td>250</td>\n",
              "      <td>1070</td>\n",
              "      <td>2519</td>\n",
              "      <td>0</td>\n",
              "      <td>0</td>\n",
              "    </tr>\n",
              "    <tr>\n",
              "      <th>3</th>\n",
              "      <td>21754</td>\n",
              "      <td>1</td>\n",
              "      <td>56</td>\n",
              "      <td>291</td>\n",
              "      <td>580</td>\n",
              "      <td>2673</td>\n",
              "      <td>0</td>\n",
              "      <td>0</td>\n",
              "    </tr>\n",
              "    <tr>\n",
              "      <th>4</th>\n",
              "      <td>38468</td>\n",
              "      <td>1</td>\n",
              "      <td>56</td>\n",
              "      <td>291</td>\n",
              "      <td>580</td>\n",
              "      <td>2673</td>\n",
              "      <td>0</td>\n",
              "      <td>0</td>\n",
              "    </tr>\n",
              "  </tbody>\n",
              "</table>\n",
              "</div>"
            ],
            "text/plain": [
              "   material  hier_level_1  hier_level_2  ...  vendor  is_private_label  is_alco\n",
              "0     21972             1            56  ...     551                 0        0\n",
              "1     79310             1            56  ...    2519                 0        0\n",
              "2     99398             1            56  ...    2519                 0        0\n",
              "3     21754             1            56  ...    2673                 0        0\n",
              "4     38468             1            56  ...    2673                 0        0\n",
              "\n",
              "[5 rows x 8 columns]"
            ]
          },
          "metadata": {
            "tags": []
          },
          "execution_count": 9
        }
      ]
    },
    {
      "cell_type": "code",
      "metadata": {
        "id": "-LlT26hCfX9y",
        "outputId": "e4e206f2-c8fb-4cb1-a104-06671b3a9892",
        "colab": {
          "base_uri": "https://localhost:8080/",
          "height": 238
        }
      },
      "source": [
        "plants = plants.iloc[:, 1:]\n",
        "print(plants.shape)\n",
        "print('city unique values:', plants.city.nunique())\n",
        "\n",
        "plants.head()"
      ],
      "execution_count": null,
      "outputs": [
        {
          "output_type": "stream",
          "text": [
            "(388, 4)\n",
            "city unique values: 3\n"
          ],
          "name": "stdout"
        },
        {
          "output_type": "execute_result",
          "data": {
            "text/html": [
              "<div>\n",
              "<style scoped>\n",
              "    .dataframe tbody tr th:only-of-type {\n",
              "        vertical-align: middle;\n",
              "    }\n",
              "\n",
              "    .dataframe tbody tr th {\n",
              "        vertical-align: top;\n",
              "    }\n",
              "\n",
              "    .dataframe thead th {\n",
              "        text-align: right;\n",
              "    }\n",
              "</style>\n",
              "<table border=\"1\" class=\"dataframe\">\n",
              "  <thead>\n",
              "    <tr style=\"text-align: right;\">\n",
              "      <th></th>\n",
              "      <th>Unnamed: 0</th>\n",
              "      <th>plant</th>\n",
              "      <th>plant_type</th>\n",
              "      <th>city</th>\n",
              "    </tr>\n",
              "  </thead>\n",
              "  <tbody>\n",
              "    <tr>\n",
              "      <th>0</th>\n",
              "      <td>0</td>\n",
              "      <td>215</td>\n",
              "      <td>0</td>\n",
              "      <td>2</td>\n",
              "    </tr>\n",
              "    <tr>\n",
              "      <th>1</th>\n",
              "      <td>1</td>\n",
              "      <td>211</td>\n",
              "      <td>0</td>\n",
              "      <td>2</td>\n",
              "    </tr>\n",
              "    <tr>\n",
              "      <th>2</th>\n",
              "      <td>2</td>\n",
              "      <td>252</td>\n",
              "      <td>0</td>\n",
              "      <td>2</td>\n",
              "    </tr>\n",
              "    <tr>\n",
              "      <th>3</th>\n",
              "      <td>3</td>\n",
              "      <td>18</td>\n",
              "      <td>0</td>\n",
              "      <td>2</td>\n",
              "    </tr>\n",
              "    <tr>\n",
              "      <th>4</th>\n",
              "      <td>4</td>\n",
              "      <td>110</td>\n",
              "      <td>0</td>\n",
              "      <td>2</td>\n",
              "    </tr>\n",
              "  </tbody>\n",
              "</table>\n",
              "</div>"
            ],
            "text/plain": [
              "   Unnamed: 0  plant  plant_type  city\n",
              "0           0    215           0     2\n",
              "1           1    211           0     2\n",
              "2           2    252           0     2\n",
              "3           3     18           0     2\n",
              "4           4    110           0     2"
            ]
          },
          "metadata": {
            "tags": []
          },
          "execution_count": 10
        }
      ]
    },
    {
      "cell_type": "code",
      "metadata": {
        "id": "ZToxhc8TkTRf",
        "outputId": "7a9d65a4-3ac2-40c3-f9aa-efe47c4961bc",
        "colab": {
          "base_uri": "https://localhost:8080/",
          "height": 535
        }
      },
      "source": [
        "print(trans.shape)\n",
        "# print('min, max dates:', trans.chq_date.min(), trans.chq_date.max())\n",
        "print('max length of bill:', trans.chq_position.nunique())\n",
        "print('chq_id unique values:', trans.chq_id.nunique())\n",
        "\n",
        "trans.describe()\n",
        "trans.head()"
      ],
      "execution_count": null,
      "outputs": [
        {
          "output_type": "stream",
          "text": [
            "(32109414, 9)\n",
            "max length of bill: 459\n",
            "chq_id unique values: 2964775\n"
          ],
          "name": "stdout"
        },
        {
          "output_type": "execute_result",
          "data": {
            "text/html": [
              "<div>\n",
              "<style scoped>\n",
              "    .dataframe tbody tr th:only-of-type {\n",
              "        vertical-align: middle;\n",
              "    }\n",
              "\n",
              "    .dataframe tbody tr th {\n",
              "        vertical-align: top;\n",
              "    }\n",
              "\n",
              "    .dataframe thead th {\n",
              "        text-align: right;\n",
              "    }\n",
              "</style>\n",
              "<table border=\"1\" class=\"dataframe\">\n",
              "  <thead>\n",
              "    <tr style=\"text-align: right;\">\n",
              "      <th></th>\n",
              "      <th>chq_id</th>\n",
              "      <th>plant</th>\n",
              "      <th>client_id</th>\n",
              "      <th>material</th>\n",
              "      <th>sales_count</th>\n",
              "      <th>sales_sum</th>\n",
              "      <th>is_promo</th>\n",
              "    </tr>\n",
              "  </thead>\n",
              "  <tbody>\n",
              "    <tr>\n",
              "      <th>count</th>\n",
              "      <td>3.210941e+07</td>\n",
              "      <td>3.210941e+07</td>\n",
              "      <td>3.210941e+07</td>\n",
              "      <td>3.210941e+07</td>\n",
              "      <td>3.210941e+07</td>\n",
              "      <td>3.210941e+07</td>\n",
              "      <td>3.210941e+07</td>\n",
              "    </tr>\n",
              "    <tr>\n",
              "      <th>mean</th>\n",
              "      <td>1.481767e+06</td>\n",
              "      <td>1.845276e+02</td>\n",
              "      <td>5.016135e+04</td>\n",
              "      <td>5.274385e+04</td>\n",
              "      <td>1.319230e+00</td>\n",
              "      <td>1.228870e+02</td>\n",
              "      <td>4.833838e-01</td>\n",
              "    </tr>\n",
              "    <tr>\n",
              "      <th>std</th>\n",
              "      <td>8.558720e+05</td>\n",
              "      <td>1.124506e+02</td>\n",
              "      <td>2.885262e+04</td>\n",
              "      <td>3.011254e+04</td>\n",
              "      <td>2.015387e+00</td>\n",
              "      <td>2.502002e+02</td>\n",
              "      <td>4.997238e-01</td>\n",
              "    </tr>\n",
              "    <tr>\n",
              "      <th>min</th>\n",
              "      <td>0.000000e+00</td>\n",
              "      <td>0.000000e+00</td>\n",
              "      <td>0.000000e+00</td>\n",
              "      <td>0.000000e+00</td>\n",
              "      <td>-1.656000e+03</td>\n",
              "      <td>-9.838800e+04</td>\n",
              "      <td>0.000000e+00</td>\n",
              "    </tr>\n",
              "    <tr>\n",
              "      <th>25%</th>\n",
              "      <td>7.406100e+05</td>\n",
              "      <td>8.400000e+01</td>\n",
              "      <td>2.500500e+04</td>\n",
              "      <td>2.691500e+04</td>\n",
              "      <td>1.000000e+00</td>\n",
              "      <td>3.999000e+01</td>\n",
              "      <td>0.000000e+00</td>\n",
              "    </tr>\n",
              "    <tr>\n",
              "      <th>50%</th>\n",
              "      <td>1.481309e+06</td>\n",
              "      <td>1.860000e+02</td>\n",
              "      <td>5.027400e+04</td>\n",
              "      <td>5.172000e+04</td>\n",
              "      <td>1.000000e+00</td>\n",
              "      <td>7.398000e+01</td>\n",
              "      <td>0.000000e+00</td>\n",
              "    </tr>\n",
              "    <tr>\n",
              "      <th>75%</th>\n",
              "      <td>2.223605e+06</td>\n",
              "      <td>2.790000e+02</td>\n",
              "      <td>7.513300e+04</td>\n",
              "      <td>7.768200e+04</td>\n",
              "      <td>1.000000e+00</td>\n",
              "      <td>1.399900e+02</td>\n",
              "      <td>1.000000e+00</td>\n",
              "    </tr>\n",
              "    <tr>\n",
              "      <th>max</th>\n",
              "      <td>2.964774e+06</td>\n",
              "      <td>3.870000e+02</td>\n",
              "      <td>9.999900e+04</td>\n",
              "      <td>1.056930e+05</td>\n",
              "      <td>3.000000e+03</td>\n",
              "      <td>1.985715e+05</td>\n",
              "      <td>1.000000e+00</td>\n",
              "    </tr>\n",
              "  </tbody>\n",
              "</table>\n",
              "</div>"
            ],
            "text/plain": [
              "             chq_id         plant  ...     sales_sum      is_promo\n",
              "count  3.210941e+07  3.210941e+07  ...  3.210941e+07  3.210941e+07\n",
              "mean   1.481767e+06  1.845276e+02  ...  1.228870e+02  4.833838e-01\n",
              "std    8.558720e+05  1.124506e+02  ...  2.502002e+02  4.997238e-01\n",
              "min    0.000000e+00  0.000000e+00  ... -9.838800e+04  0.000000e+00\n",
              "25%    7.406100e+05  8.400000e+01  ...  3.999000e+01  0.000000e+00\n",
              "50%    1.481309e+06  1.860000e+02  ...  7.398000e+01  0.000000e+00\n",
              "75%    2.223605e+06  2.790000e+02  ...  1.399900e+02  1.000000e+00\n",
              "max    2.964774e+06  3.870000e+02  ...  1.985715e+05  1.000000e+00\n",
              "\n",
              "[8 rows x 7 columns]"
            ]
          },
          "metadata": {
            "tags": []
          },
          "execution_count": 11
        },
        {
          "output_type": "execute_result",
          "data": {
            "text/html": [
              "<div>\n",
              "<style scoped>\n",
              "    .dataframe tbody tr th:only-of-type {\n",
              "        vertical-align: middle;\n",
              "    }\n",
              "\n",
              "    .dataframe tbody tr th {\n",
              "        vertical-align: top;\n",
              "    }\n",
              "\n",
              "    .dataframe thead th {\n",
              "        text-align: right;\n",
              "    }\n",
              "</style>\n",
              "<table border=\"1\" class=\"dataframe\">\n",
              "  <thead>\n",
              "    <tr style=\"text-align: right;\">\n",
              "      <th></th>\n",
              "      <th>chq_id</th>\n",
              "      <th>plant</th>\n",
              "      <th>chq_date</th>\n",
              "      <th>chq_position</th>\n",
              "      <th>client_id</th>\n",
              "      <th>material</th>\n",
              "      <th>sales_count</th>\n",
              "      <th>sales_sum</th>\n",
              "      <th>is_promo</th>\n",
              "    </tr>\n",
              "  </thead>\n",
              "  <tbody>\n",
              "    <tr>\n",
              "      <th>0</th>\n",
              "      <td>2390608</td>\n",
              "      <td>179</td>\n",
              "      <td>2016-11-01</td>\n",
              "      <td>004</td>\n",
              "      <td>56437</td>\n",
              "      <td>14213</td>\n",
              "      <td>2.0</td>\n",
              "      <td>146.98</td>\n",
              "      <td>0</td>\n",
              "    </tr>\n",
              "    <tr>\n",
              "      <th>1</th>\n",
              "      <td>2390608</td>\n",
              "      <td>179</td>\n",
              "      <td>2016-11-01</td>\n",
              "      <td>003</td>\n",
              "      <td>56437</td>\n",
              "      <td>7629</td>\n",
              "      <td>1.0</td>\n",
              "      <td>249.99</td>\n",
              "      <td>1</td>\n",
              "    </tr>\n",
              "    <tr>\n",
              "      <th>2</th>\n",
              "      <td>2390608</td>\n",
              "      <td>179</td>\n",
              "      <td>2016-11-01</td>\n",
              "      <td>012</td>\n",
              "      <td>56437</td>\n",
              "      <td>7264</td>\n",
              "      <td>1.0</td>\n",
              "      <td>47.99</td>\n",
              "      <td>1</td>\n",
              "    </tr>\n",
              "    <tr>\n",
              "      <th>3</th>\n",
              "      <td>2390608</td>\n",
              "      <td>179</td>\n",
              "      <td>2016-11-01</td>\n",
              "      <td>013</td>\n",
              "      <td>56437</td>\n",
              "      <td>7264</td>\n",
              "      <td>1.0</td>\n",
              "      <td>47.99</td>\n",
              "      <td>1</td>\n",
              "    </tr>\n",
              "    <tr>\n",
              "      <th>4</th>\n",
              "      <td>2390608</td>\n",
              "      <td>179</td>\n",
              "      <td>2016-11-01</td>\n",
              "      <td>011</td>\n",
              "      <td>56437</td>\n",
              "      <td>35784</td>\n",
              "      <td>2.0</td>\n",
              "      <td>53.98</td>\n",
              "      <td>1</td>\n",
              "    </tr>\n",
              "  </tbody>\n",
              "</table>\n",
              "</div>"
            ],
            "text/plain": [
              "    chq_id  plant   chq_date  ... sales_count  sales_sum  is_promo\n",
              "0  2390608    179 2016-11-01  ...         2.0     146.98         0\n",
              "1  2390608    179 2016-11-01  ...         1.0     249.99         1\n",
              "2  2390608    179 2016-11-01  ...         1.0      47.99         1\n",
              "3  2390608    179 2016-11-01  ...         1.0      47.99         1\n",
              "4  2390608    179 2016-11-01  ...         2.0      53.98         1\n",
              "\n",
              "[5 rows x 9 columns]"
            ]
          },
          "metadata": {
            "tags": []
          },
          "execution_count": 11
        }
      ]
    },
    {
      "cell_type": "markdown",
      "metadata": {
        "id": "ezGhUkmg_vDF"
      },
      "source": [
        "### 2) Merging usefull tabels by keys"
      ]
    },
    {
      "cell_type": "code",
      "metadata": {
        "id": "VLafVVaWkfSq",
        "outputId": "4ae56959-bd76-4dc8-8514-dfb2ed96bab4",
        "colab": {
          "base_uri": "https://localhost:8080/",
          "height": 326
        }
      },
      "source": [
        "# merge transactions with materials info\n",
        "\n",
        "trans = pd.merge(trans, materials, on='material', how='left')\n",
        "trans = dd.from_pandas(trans, npartitions=5)\n",
        "trans.shape\n",
        "trans.head()"
      ],
      "execution_count": null,
      "outputs": [
        {
          "output_type": "execute_result",
          "data": {
            "text/plain": [
              "(Delayed('int-24bd3d51-eca6-4309-aee4-2c81989625d2'), 16)"
            ]
          },
          "metadata": {
            "tags": []
          },
          "execution_count": 12
        },
        {
          "output_type": "execute_result",
          "data": {
            "text/html": [
              "<div>\n",
              "<style scoped>\n",
              "    .dataframe tbody tr th:only-of-type {\n",
              "        vertical-align: middle;\n",
              "    }\n",
              "\n",
              "    .dataframe tbody tr th {\n",
              "        vertical-align: top;\n",
              "    }\n",
              "\n",
              "    .dataframe thead th {\n",
              "        text-align: right;\n",
              "    }\n",
              "</style>\n",
              "<table border=\"1\" class=\"dataframe\">\n",
              "  <thead>\n",
              "    <tr style=\"text-align: right;\">\n",
              "      <th></th>\n",
              "      <th>chq_id</th>\n",
              "      <th>plant</th>\n",
              "      <th>chq_date</th>\n",
              "      <th>chq_position</th>\n",
              "      <th>client_id</th>\n",
              "      <th>material</th>\n",
              "      <th>sales_count</th>\n",
              "      <th>sales_sum</th>\n",
              "      <th>is_promo</th>\n",
              "      <th>hier_level_1</th>\n",
              "      <th>hier_level_2</th>\n",
              "      <th>hier_level_3</th>\n",
              "      <th>hier_level_4</th>\n",
              "      <th>vendor</th>\n",
              "      <th>is_private_label</th>\n",
              "      <th>is_alco</th>\n",
              "    </tr>\n",
              "  </thead>\n",
              "  <tbody>\n",
              "    <tr>\n",
              "      <th>0</th>\n",
              "      <td>2390608</td>\n",
              "      <td>179</td>\n",
              "      <td>2016-11-01</td>\n",
              "      <td>004</td>\n",
              "      <td>56437</td>\n",
              "      <td>14213</td>\n",
              "      <td>2.0</td>\n",
              "      <td>146.98</td>\n",
              "      <td>0</td>\n",
              "      <td>0.0</td>\n",
              "      <td>32.0</td>\n",
              "      <td>130.0</td>\n",
              "      <td>936.0</td>\n",
              "      <td>2736.0</td>\n",
              "      <td>0.0</td>\n",
              "      <td>0.0</td>\n",
              "    </tr>\n",
              "    <tr>\n",
              "      <th>1</th>\n",
              "      <td>2390608</td>\n",
              "      <td>179</td>\n",
              "      <td>2016-11-01</td>\n",
              "      <td>003</td>\n",
              "      <td>56437</td>\n",
              "      <td>7629</td>\n",
              "      <td>1.0</td>\n",
              "      <td>249.99</td>\n",
              "      <td>1</td>\n",
              "      <td>0.0</td>\n",
              "      <td>10.0</td>\n",
              "      <td>305.0</td>\n",
              "      <td>1103.0</td>\n",
              "      <td>2278.0</td>\n",
              "      <td>0.0</td>\n",
              "      <td>0.0</td>\n",
              "    </tr>\n",
              "    <tr>\n",
              "      <th>2</th>\n",
              "      <td>2390608</td>\n",
              "      <td>179</td>\n",
              "      <td>2016-11-01</td>\n",
              "      <td>012</td>\n",
              "      <td>56437</td>\n",
              "      <td>7264</td>\n",
              "      <td>1.0</td>\n",
              "      <td>47.99</td>\n",
              "      <td>1</td>\n",
              "      <td>0.0</td>\n",
              "      <td>13.0</td>\n",
              "      <td>81.0</td>\n",
              "      <td>3.0</td>\n",
              "      <td>2715.0</td>\n",
              "      <td>0.0</td>\n",
              "      <td>1.0</td>\n",
              "    </tr>\n",
              "    <tr>\n",
              "      <th>3</th>\n",
              "      <td>2390608</td>\n",
              "      <td>179</td>\n",
              "      <td>2016-11-01</td>\n",
              "      <td>013</td>\n",
              "      <td>56437</td>\n",
              "      <td>7264</td>\n",
              "      <td>1.0</td>\n",
              "      <td>47.99</td>\n",
              "      <td>1</td>\n",
              "      <td>0.0</td>\n",
              "      <td>13.0</td>\n",
              "      <td>81.0</td>\n",
              "      <td>3.0</td>\n",
              "      <td>2715.0</td>\n",
              "      <td>0.0</td>\n",
              "      <td>1.0</td>\n",
              "    </tr>\n",
              "    <tr>\n",
              "      <th>4</th>\n",
              "      <td>2390608</td>\n",
              "      <td>179</td>\n",
              "      <td>2016-11-01</td>\n",
              "      <td>011</td>\n",
              "      <td>56437</td>\n",
              "      <td>35784</td>\n",
              "      <td>2.0</td>\n",
              "      <td>53.98</td>\n",
              "      <td>1</td>\n",
              "      <td>0.0</td>\n",
              "      <td>32.0</td>\n",
              "      <td>383.0</td>\n",
              "      <td>1775.0</td>\n",
              "      <td>1221.0</td>\n",
              "      <td>0.0</td>\n",
              "      <td>0.0</td>\n",
              "    </tr>\n",
              "  </tbody>\n",
              "</table>\n",
              "</div>"
            ],
            "text/plain": [
              "    chq_id  plant   chq_date  ...  vendor  is_private_label  is_alco\n",
              "0  2390608    179 2016-11-01  ...  2736.0               0.0      0.0\n",
              "1  2390608    179 2016-11-01  ...  2278.0               0.0      0.0\n",
              "2  2390608    179 2016-11-01  ...  2715.0               0.0      1.0\n",
              "3  2390608    179 2016-11-01  ...  2715.0               0.0      1.0\n",
              "4  2390608    179 2016-11-01  ...  1221.0               0.0      0.0\n",
              "\n",
              "[5 rows x 16 columns]"
            ]
          },
          "metadata": {
            "tags": []
          },
          "execution_count": 12
        }
      ]
    },
    {
      "cell_type": "code",
      "metadata": {
        "id": "pPYrcRE8lcsT"
      },
      "source": [
        "trans['chq_date'] = dd.to_datetime(trans['chq_date'], format='%Y-%m-%d')"
      ],
      "execution_count": null,
      "outputs": []
    },
    {
      "cell_type": "markdown",
      "metadata": {
        "id": "OO_jUyVV6HxB"
      },
      "source": [
        "### 3) RFMV analysis"
      ]
    },
    {
      "cell_type": "code",
      "metadata": {
        "id": "kN9IjeLC6Hah"
      },
      "source": [
        "import datetime as dt\n",
        "\n",
        "\n",
        "# RECENCY\n",
        "NOW = pd.to_datetime('2017-10-5', format='%Y-%m-%d') # just take the max date from the index + 1\n",
        "\n",
        "def date_diff(df):\n",
        "    return (NOW-df['Last Purchase']).dt.days\n",
        "\n",
        "recency_df = trans.groupby('client_id')['chq_date'].max().reset_index()\n",
        "recency_df.columns = ['Customer ID','Last Purchase']\n",
        "recency_df['Recency'] = recency_df.map_partitions(date_diff)\n",
        "recency_df = recency_df[['Customer ID', 'Recency']]\n",
        "\n",
        "# recency_df.head()\n",
        "\n",
        "# FREQUENCY\n",
        "frequency_df = trans.groupby('client_id')['chq_date'].count().reset_index()\n",
        "frequency_df.columns = ['Customer ID','Frequency']\n",
        "# frequency_df.head()\n",
        "\n",
        "# MONETARY\n",
        "monetary_df = trans.groupby('client_id')['sales_sum'].sum().reset_index()\n",
        "monetary_df.columns = ['Customer ID','Monetary']\n",
        "\n",
        "# monetary_df.head()\n",
        "\n",
        "# VARIETY\n",
        "variety_df = trans.groupby('client_id')['material'].nunique().reset_index()\n",
        "variety_df.columns = ['Customer ID','Variety']\n",
        "\n",
        "# variety_df.head()\n",
        "\n",
        "rfmv = recency_df.copy()\n",
        "rfmv = rfmv.merge(frequency_df, on='Customer ID')\n",
        "rfmv = rfmv.merge(monetary_df, on='Customer ID')\n",
        "rfmv = rfmv.merge(variety_df, on='Customer ID')\n"
      ],
      "execution_count": null,
      "outputs": []
    },
    {
      "cell_type": "code",
      "metadata": {
        "id": "QLXLsfDGltlO",
        "outputId": "e64c7573-1c2c-41c2-b449-8f9ffb559ebf",
        "colab": {
          "base_uri": "https://localhost:8080/"
        }
      },
      "source": [
        "import pickle\n",
        "\n",
        "with open('rfmv_quantiles.pickle', 'wb') as f:\n",
        "    pickle.dump(rfmv_quantiles, f)"
      ],
      "execution_count": null,
      "outputs": [
        {
          "output_type": "execute_result",
          "data": {
            "text/plain": [
              "{'Frequency': {0.25: 80.0, 0.5: 189.0, 0.75: 418.0},\n",
              " 'Monetary': {0.25: 9450.999999999996,\n",
              "  0.5: 22556.999999999993,\n",
              "  0.75: 50116.99999999998},\n",
              " 'Recency': {0.25: 6.0, 0.5: 22.0, 0.75: 102.0},\n",
              " 'Variety': {0.25: 65.0, 0.5: 141.0, 0.75: 276.0}}"
            ]
          },
          "metadata": {
            "tags": []
          },
          "execution_count": 22
        }
      ]
    },
    {
      "cell_type": "code",
      "metadata": {
        "id": "EBNbUdLNcYq4"
      },
      "source": [
        "### we take the 25%, 50%, and 75% quantile for each of R, F, M, and V and store them into dictionary data type\n",
        "rfmv_quantiles = rfmv.iloc[:, 1:].quantile(q = [0.25, 0.5, 0.75]).compute().to_dict()\n",
        "rfmv_quantiles"
      ],
      "execution_count": null,
      "outputs": []
    },
    {
      "cell_type": "code",
      "metadata": {
        "id": "H-kl9YXbdIFh"
      },
      "source": [
        "## create a function that returns a score--0 to 4 based on the quartile ranking\n",
        "## these score can be easily interpreted by the K-Mean algorithm instead of the actual value of RFMB\n",
        "\n",
        "### recency score: the lower the recency, the higher the score \n",
        "def RecencyScore(df, col, dict_):\n",
        "    out = (df[col]<=dict_[col][0.25]).astype(int)*4 + \\\n",
        "          ((df[col]>dict_[col][0.25])&(df[col]<=dict_[col][0.5])).astype(int)*3 + \\\n",
        "          ((df[col]>dict_[col][0.5])&(df[col]<=dict_[col][0.75])).astype(int)*2 + \\\n",
        "          (df[col]>dict_[col][0.75]).astype(int)\n",
        "    return out\n",
        "\n",
        "    \n",
        "# F, M, V: In contrast to Recency, the higher the quantile value, the higher the score    \n",
        "def FMVScore(df, col, dict_):\n",
        "    out = (df[col]<=dict_[col][0.25]).astype(int) + \\\n",
        "            ((df[col]>dict_[col][0.25])&(df[col]<=dict_[col][0.5])).astype(int)*2 + \\\n",
        "            ((df[col]>dict_[col][0.5])&(df[col]<=dict_[col][0.75])).astype(int)*3 + \\\n",
        "            (df[col]>dict_[col][0.75]).astype(int) * 4\n",
        "    return out\n",
        "\n",
        "rfmv2 = rfmv.copy()\n",
        "\n",
        "rfmv2['R_q'] = rfmv2.map_partitions(RecencyScore, col='Recency', dict_=rfmv_quantiles)\n",
        "rfmv2['F_q'] = rfmv2.map_partitions(FMVScore, col='Frequency', dict_=rfmv_quantiles)\n",
        "rfmv2['M_q'] = rfmv2.map_partitions(FMVScore, col='Monetary', dict_=rfmv_quantiles)\n",
        "rfmv2['V_q'] = rfmv2.map_partitions(FMVScore, col='Variety', dict_=rfmv_quantiles)\n",
        "\n",
        "rfmv2 = rfmv2[['Customer ID', 'R_q', 'F_q', 'M_q', 'V_q',]]\n",
        "rfmv2['Total_Score'] = rfmv2['R_q'] + rfmv2['F_q'] + rfmv2['M_q'] + rfmv2['V_q']\n",
        "\n",
        "rfmv2 = rfmv2[['Customer ID', 'Total_Score']]"
      ],
      "execution_count": null,
      "outputs": []
    },
    {
      "cell_type": "code",
      "metadata": {
        "id": "VOykJDv8-1DX"
      },
      "source": [
        "import pickle\n",
        "\n",
        "with open('clusters.pickle', 'wb') as f:\n",
        "   pickle.dump(clusters, f)"
      ],
      "execution_count": null,
      "outputs": []
    },
    {
      "cell_type": "markdown",
      "metadata": {
        "id": "ybMuJ7em_8GG"
      },
      "source": [
        "### 4) Applying KMeans clustering algo"
      ]
    },
    {
      "cell_type": "code",
      "metadata": {
        "id": "V9rXH8Fg347O"
      },
      "source": [
        "# Apply KMean clustering using the optimal number with the \"elbow\". We just took a guess to use k = 4\n",
        "kmeans = KMeans(n_clusters=4, \n",
        "                init='random', \n",
        "                random_state=None)\n",
        "\n",
        "clusters = kmeans.fit_predict(rfmv2[['Total_Score']])"
      ],
      "execution_count": null,
      "outputs": []
    },
    {
      "cell_type": "code",
      "metadata": {
        "id": "zTJhNQVlGq6E"
      },
      "source": [
        "rfmv_pandas = rfmv.compute()\n",
        "# rfmv['Clusters'] = clusters"
      ],
      "execution_count": null,
      "outputs": []
    },
    {
      "cell_type": "code",
      "metadata": {
        "id": "6hyP1OuGNrue",
        "outputId": "4d1ec0ce-0060-48d6-dd1e-2c5d846b6330",
        "colab": {
          "base_uri": "https://localhost:8080/",
          "height": 34
        }
      },
      "source": [
        "rfmv_pandas['Clusters'] = clusters\n",
        "path = Path(\"/content/drive/My Drive/Lenta_hack\")\n",
        "rfmv_pandas.to_parquet(os.path.join(path, 'rfmv.parquet'), index=False)"
      ],
      "execution_count": null,
      "outputs": [
        {
          "output_type": "execute_result",
          "data": {
            "text/plain": [
              "dask.dataframe.core.DataFrame"
            ]
          },
          "metadata": {
            "tags": []
          },
          "execution_count": 51
        }
      ]
    },
    {
      "cell_type": "code",
      "metadata": {
        "id": "HqXziExi9TBY"
      },
      "source": [
        "rfmv.columns = ['client_id', 'Clusters']\n",
        "\n",
        "trans = trans.merge(rfmv[['client_id','Clusters']], how='left', on='client_id')\n",
        "trans = trans.merge(clients, how='left', on='client_id') # + gender, city\n",
        "\n",
        "plants.colums = ['plant', 'plant_type', 'city_store_loc']\n",
        "trans = trans.merge(plants, how='left', on='plant') # + plant_type, city"
      ],
      "execution_count": null,
      "outputs": []
    },
    {
      "cell_type": "markdown",
      "metadata": {
        "id": "gL0_cJH2-88A"
      },
      "source": [
        "# New data with clusters and RFMV info you can find here:\n",
        "### https://drive.google.com/file/d/1cwtTbZw6wrancDkB6raYHodrhiXUg3Ff/view?usp=sharing"
      ]
    }
  ]
}