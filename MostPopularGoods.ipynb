{
  "nbformat": 4,
  "nbformat_minor": 0,
  "metadata": {
    "colab": {
      "name": "MostPopularGoods.ipynb",
      "provenance": [],
      "collapsed_sections": []
    },
    "kernelspec": {
      "name": "python3",
      "display_name": "Python 3"
    }
  },
  "cells": [
    {
      "cell_type": "code",
      "metadata": {
        "id": "j34g7xfwps-v"
      },
      "source": [
        "import pandas as pd\n",
        "import numpy as np\n",
        "\n",
        "import os"
      ],
      "execution_count": 1,
      "outputs": []
    },
    {
      "cell_type": "code",
      "metadata": {
        "id": "6m9sNCkopv_p",
        "outputId": "f01235c8-c9a8-471f-f828-03dec15d63fa",
        "colab": {
          "base_uri": "https://localhost:8080/"
        }
      },
      "source": [
        "!pip install -U pyarrow"
      ],
      "execution_count": 2,
      "outputs": [
        {
          "output_type": "stream",
          "text": [
            "Requirement already up-to-date: pyarrow in /usr/local/lib/python3.6/dist-packages (1.0.1)\n",
            "Requirement already satisfied, skipping upgrade: numpy>=1.14 in /usr/local/lib/python3.6/dist-packages (from pyarrow) (1.18.5)\n"
          ],
          "name": "stdout"
        }
      ]
    },
    {
      "cell_type": "code",
      "metadata": {
        "id": "fOnMBLeoqAOV",
        "outputId": "ecba4854-b55e-4c57-b179-934b373a4e68",
        "colab": {
          "base_uri": "https://localhost:8080/",
          "height": 34
        }
      },
      "source": [
        "try:\n",
        "    import google.colab\n",
        "    IN_COLAB = True\n",
        "except ImportError:\n",
        "    IN_COLAB = False\n",
        "\n",
        "from pathlib import Path\n",
        "if IN_COLAB:\n",
        "    google.colab.drive.mount(\"/content/drive\")\n",
        "    \n",
        "    AUX_DATA_ROOT = Path(\"/content/drive/My Drive/NEW_HACK_DATA\")\n",
        "    \n",
        "    assert AUX_DATA_ROOT.is_dir(), \"Have you forgot to 'Add a shortcut to Drive'?\"\n",
        "    \n",
        "    import sys\n",
        "    sys.path.insert(0, str(AUX_DATA_ROOT))\n",
        "else:\n",
        "    AUX_DATA_ROOT = Path(\".\")"
      ],
      "execution_count": 3,
      "outputs": [
        {
          "output_type": "stream",
          "text": [
            "Drive already mounted at /content/drive; to attempt to forcibly remount, call drive.mount(\"/content/drive\", force_remount=True).\n"
          ],
          "name": "stdout"
        }
      ]
    },
    {
      "cell_type": "code",
      "metadata": {
        "id": "gh-TtAx6qHdu"
      },
      "source": [
        "from IPython.display import display, HTML\n",
        "\n",
        "def print_df(df):\n",
        "    display(HTML(df.to_html()))\n",
        "\n",
        "from IPython.core.interactiveshell import InteractiveShell\n",
        "InteractiveShell.ast_node_interactivity = \"all\""
      ],
      "execution_count": 4,
      "outputs": []
    },
    {
      "cell_type": "code",
      "metadata": {
        "id": "JwlH6lxTnn68",
        "outputId": "dd848b26-fa27-44f3-dad7-9c83ddfe5fac",
        "colab": {
          "base_uri": "https://localhost:8080/",
          "height": 207
        }
      },
      "source": [
        "!pip install dask[dataframe]\n",
        "\n",
        "import dask.dataframe as dd"
      ],
      "execution_count": 5,
      "outputs": [
        {
          "output_type": "stream",
          "text": [
            "Requirement already satisfied: dask[dataframe] in /usr/local/lib/python3.6/dist-packages (2.12.0)\n",
            "Requirement already satisfied: fsspec>=0.6.0; extra == \"dataframe\" in /usr/local/lib/python3.6/dist-packages (from dask[dataframe]) (0.8.3)\n",
            "Requirement already satisfied: numpy>=1.13.0; extra == \"dataframe\" in /usr/local/lib/python3.6/dist-packages (from dask[dataframe]) (1.18.5)\n",
            "Requirement already satisfied: partd>=0.3.10; extra == \"dataframe\" in /usr/local/lib/python3.6/dist-packages (from dask[dataframe]) (1.1.0)\n",
            "Requirement already satisfied: toolz>=0.7.3; extra == \"dataframe\" in /usr/local/lib/python3.6/dist-packages (from dask[dataframe]) (0.10.0)\n",
            "Requirement already satisfied: pandas>=0.23.0; extra == \"dataframe\" in /usr/local/lib/python3.6/dist-packages (from dask[dataframe]) (1.0.5)\n",
            "Requirement already satisfied: locket in /usr/local/lib/python3.6/dist-packages (from partd>=0.3.10; extra == \"dataframe\"->dask[dataframe]) (0.2.0)\n",
            "Requirement already satisfied: python-dateutil>=2.6.1 in /usr/local/lib/python3.6/dist-packages (from pandas>=0.23.0; extra == \"dataframe\"->dask[dataframe]) (2.8.1)\n",
            "Requirement already satisfied: pytz>=2017.2 in /usr/local/lib/python3.6/dist-packages (from pandas>=0.23.0; extra == \"dataframe\"->dask[dataframe]) (2018.9)\n",
            "Requirement already satisfied: six>=1.5 in /usr/local/lib/python3.6/dist-packages (from python-dateutil>=2.6.1->pandas>=0.23.0; extra == \"dataframe\"->dask[dataframe]) (1.15.0)\n"
          ],
          "name": "stdout"
        }
      ]
    },
    {
      "cell_type": "code",
      "metadata": {
        "id": "cTLvWiLunt1m"
      },
      "source": [
        "trans = pd.read_parquet(os.path.join(AUX_DATA_ROOT, 't.parquet'), engine='pyarrow', use_threads=True)"
      ],
      "execution_count": 6,
      "outputs": []
    },
    {
      "cell_type": "code",
      "metadata": {
        "id": "Kb1DsBj8nwLL"
      },
      "source": [
        "clients = pd.read_csv(os.path.join(AUX_DATA_ROOT, 'c.csv'))\n",
        "materials = pd.read_csv(os.path.join(AUX_DATA_ROOT, 'm.csv'))\n",
        "plants = pd.read_csv(os.path.join(AUX_DATA_ROOT, 'p.csv'))"
      ],
      "execution_count": 7,
      "outputs": []
    },
    {
      "cell_type": "code",
      "metadata": {
        "id": "mQXoo7bKnxgk"
      },
      "source": [
        "def age_group_func(x):\n",
        "    if x<=20:\n",
        "        return '0-20'\n",
        "    elif x<=45:\n",
        "        return '20-45'\n",
        "    elif x<=60:\n",
        "        return '45-60'\n",
        "    else:\n",
        "        return '60+'\n",
        "\n",
        "cur_year = 2017\n",
        "\n",
        "most_common = clients.loc[clients.birthyear!='N', 'birthyear'].astype(float).astype(int).median()\n",
        "clients['birthyear'] = clients['birthyear'].apply(lambda x: most_common if x=='N' else x)\n",
        "clients['Age'] = cur_year - clients['birthyear'].astype(float).astype(int)\n",
        "clients['Age_group'] = clients['Age'].map(age_group_func)\n",
        "clients.drop('Age', axis=1, inplace=True)\n",
        "\n",
        "trans = trans[['chq_id', 'client_id', 'material', 'sales_count', 'sales_sum', 'is_promo']]\n",
        "\n",
        "trans = pd.merge(trans, clients[['client_id', 'gender', 'city', 'Age_group']], on='client_id', how='left')\n"
      ],
      "execution_count": 8,
      "outputs": []
    },
    {
      "cell_type": "code",
      "metadata": {
        "id": "ZLkfXFXAxpPk"
      },
      "source": [
        "random_indices = np.random.choice(len(trans), int(0.05*len(trans)), replace=False)\n",
        "# random_indices = [0, 1]"
      ],
      "execution_count": 12,
      "outputs": []
    },
    {
      "cell_type": "code",
      "metadata": {
        "id": "hjbsHRYrn-uD"
      },
      "source": [
        "trans_chunk = trans.loc[random_indices, :]\n",
        "popular_df = trans_chunk.groupby(['Age_group', \"gender\", 'material']).\\\n",
        "                            filter(lambda x: x['sales_count'].sum()>\\\n",
        "                            trans_chunk[(trans_chunk.Age_group.isin(x.Age_group))&(trans_chunk.gender.isin(x.gender))].\\\n",
        "                            groupby('material')[['sales_count']].sum().quantile(0.95)).\\\n",
        "                                    groupby(['Age_group', \"gender\", 'material'])[['sales_sum']].sum()\n",
        "\n",
        "path = Path(\"/content/drive/My Drive/Lenta_hack\")\n",
        "popular_df.to_csv(os.path.join(path, 'popular_df.csv'))"
      ],
      "execution_count": null,
      "outputs": []
    },
    {
      "cell_type": "code",
      "metadata": {
        "id": "nFgtKnRusqvK"
      },
      "source": [
        "p_opp = 0.02\n",
        "p_acc = 0.1\n",
        "add_income = popular_df['sales_sum'].sum() * p_opp * p_acc * 20\n",
        "\n",
        "print(\"Lenta's estimated additional income:\", add_income)"
      ],
      "execution_count": null,
      "outputs": []
    },
    {
      "cell_type": "code",
      "metadata": {
        "id": "OUi2q8Hgs_iu"
      },
      "source": [
        "print(5)"
      ],
      "execution_count": null,
      "outputs": []
    },
    {
      "cell_type": "markdown",
      "metadata": {
        "id": "cE3eDbLRn_o0"
      },
      "source": [
        "## Example of how the above code works"
      ]
    },
    {
      "cell_type": "code",
      "metadata": {
        "id": "LbMFaZ8zn0G2"
      },
      "source": [
        "df = pd.DataFrame({'age': [1,1,1,1,1,1,1, 1, 1],\n",
        "                    'gender' : ['foo', 'foo', 'foo', 'foo', 'foo',\n",
        "                           'foo', 'foo', 'foo', 'foo'],\n",
        "                    'mat' : [1, 1, 1, 1, 1, 2, 2,3,3],\n",
        "                   'sales_count':[1,20,10,1,1,1,1,20,10],\n",
        "                    'sales_sum' : [2.0, 5., 6, 8., 1., 2., 9.,100, 100]})\n",
        "df"
      ],
      "execution_count": null,
      "outputs": []
    },
    {
      "cell_type": "code",
      "metadata": {
        "id": "KlDaM8Wtn3VT"
      },
      "source": [
        "df.groupby(['age', \"gender\", 'mat']).filter(lambda x: x['sales_count'].sum()>\\\n",
        "                                            df[(df.age.isin(x.age))&(df.gender.isin(x.gender))].groupby('mat')[['sales_count']].sum().quantile(0.3))"
      ],
      "execution_count": null,
      "outputs": []
    },
    {
      "cell_type": "code",
      "metadata": {
        "id": "DnwS1rX2n51F"
      },
      "source": [
        "df.groupby(['age', \"gender\", 'mat']).filter(lambda x: x['sales_count'].sum()>\\\n",
        "                                            df[(df.age.isin(x.age))&(df.gender.isin(x.gender))].groupby('mat')[['sales_count']].sum().quantile(0.3)).groupby(['age', \"gender\", 'mat'])[['sales_sum']].sum()"
      ],
      "execution_count": null,
      "outputs": []
    },
    {
      "cell_type": "code",
      "metadata": {
        "id": "1Qt5rdqIn7bD"
      },
      "source": [
        ""
      ],
      "execution_count": null,
      "outputs": []
    }
  ]
}