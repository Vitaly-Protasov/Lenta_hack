{
  "nbformat": 4,
  "nbformat_minor": 0,
  "metadata": {
    "colab": {
      "name": "Lenta hackaton",
      "provenance": [],
      "collapsed_sections": []
    },
    "kernelspec": {
      "display_name": "Python 3",
      "name": "python3"
    }
  },
  "cells": [
    {
      "cell_type": "markdown",
      "metadata": {
        "id": "EfLEb55C7bmd",
        "colab_type": "text"
      },
      "source": [
        "# DATA PREPROCESSING PART"
      ]
    },
    {
      "cell_type": "code",
      "metadata": {
        "id": "egGGMGR46DDh",
        "colab_type": "code",
        "colab": {
          "base_uri": "https://localhost:8080/",
          "height": 34
        },
        "outputId": "c4f5f158-2d95-49bd-b149-6397d8f7b48c"
      },
      "source": [
        "from google.colab import drive\n",
        "drive.mount('/content/drive')"
      ],
      "execution_count": 1,
      "outputs": [
        {
          "output_type": "stream",
          "text": [
            "Mounted at /content/drive\n"
          ],
          "name": "stdout"
        }
      ]
    },
    {
      "cell_type": "code",
      "metadata": {
        "id": "L3_U6TaCuHOh",
        "colab_type": "code",
        "colab": {
          "base_uri": "https://localhost:8080/",
          "height": 101
        },
        "outputId": "40b85613-67e8-4bb2-e308-4b9ff19c38ea"
      },
      "source": [
        "!unzip -P Skoltech drive/My\\ Drive/hack_data.zip "
      ],
      "execution_count": 2,
      "outputs": [
        {
          "output_type": "stream",
          "text": [
            "Archive:  drive/My Drive/hack_data.zip\n",
            "  inflating: clients.csv             \n",
            "  inflating: materials.csv           \n",
            "  inflating: plants.csv              \n",
            "  inflating: transactions.parquet    \n"
          ],
          "name": "stdout"
        }
      ]
    },
    {
      "cell_type": "code",
      "metadata": {
        "id": "fag-MKK6r9o6",
        "colab_type": "code",
        "colab": {}
      },
      "source": [
        "import pandas as pd\n",
        "!pip install -U pyarrow > /dev/null"
      ],
      "execution_count": 1,
      "outputs": []
    },
    {
      "cell_type": "markdown",
      "metadata": {
        "id": "6aOzHLZnFzhR",
        "colab_type": "text"
      },
      "source": [
        "# Part 1. Looking at structure date of each file"
      ]
    },
    {
      "cell_type": "markdown",
      "metadata": {
        "id": "dDtfDKeA8GmL",
        "colab_type": "text"
      },
      "source": [
        "## clients.csv"
      ]
    },
    {
      "cell_type": "code",
      "metadata": {
        "id": "cHWtpMp-r9tY",
        "colab_type": "code",
        "colab": {
          "base_uri": "https://localhost:8080/",
          "height": 195
        },
        "outputId": "7424ce75-427e-4a7d-858f-de89198efc7f"
      },
      "source": [
        "df_clients = pd.read_csv('clients.csv')\n",
        "df_clients.head()"
      ],
      "execution_count": 66,
      "outputs": [
        {
          "output_type": "execute_result",
          "data": {
            "text/html": [
              "<div>\n",
              "<style scoped>\n",
              "    .dataframe tbody tr th:only-of-type {\n",
              "        vertical-align: middle;\n",
              "    }\n",
              "\n",
              "    .dataframe tbody tr th {\n",
              "        vertical-align: top;\n",
              "    }\n",
              "\n",
              "    .dataframe thead th {\n",
              "        text-align: right;\n",
              "    }\n",
              "</style>\n",
              "<table border=\"1\" class=\"dataframe\">\n",
              "  <thead>\n",
              "    <tr style=\"text-align: right;\">\n",
              "      <th></th>\n",
              "      <th>client_id</th>\n",
              "      <th>gender</th>\n",
              "      <th>city</th>\n",
              "      <th>birthyear</th>\n",
              "    </tr>\n",
              "  </thead>\n",
              "  <tbody>\n",
              "    <tr>\n",
              "      <th>0</th>\n",
              "      <td>1a47d62dddacc03fe90c15652f7ae1a4</td>\n",
              "      <td>M</td>\n",
              "      <td>Other</td>\n",
              "      <td>1990.0</td>\n",
              "    </tr>\n",
              "    <tr>\n",
              "      <th>1</th>\n",
              "      <td>9cb909f701d25d548e953bff81192b56</td>\n",
              "      <td>F</td>\n",
              "      <td>Other</td>\n",
              "      <td>1969.0</td>\n",
              "    </tr>\n",
              "    <tr>\n",
              "      <th>2</th>\n",
              "      <td>d5da0f5b841b4f83383202807995027a</td>\n",
              "      <td>M</td>\n",
              "      <td>Other</td>\n",
              "      <td>1976.0</td>\n",
              "    </tr>\n",
              "    <tr>\n",
              "      <th>3</th>\n",
              "      <td>13ed7f16810b17b8cee6de834ac79a48</td>\n",
              "      <td>F</td>\n",
              "      <td>Moscow</td>\n",
              "      <td>1966.0</td>\n",
              "    </tr>\n",
              "    <tr>\n",
              "      <th>4</th>\n",
              "      <td>215fe3ea7d5bf0415e5504e2a7f33551</td>\n",
              "      <td>F</td>\n",
              "      <td>Other</td>\n",
              "      <td>1988.0</td>\n",
              "    </tr>\n",
              "  </tbody>\n",
              "</table>\n",
              "</div>"
            ],
            "text/plain": [
              "                          client_id gender    city  birthyear\n",
              "0  1a47d62dddacc03fe90c15652f7ae1a4      M   Other     1990.0\n",
              "1  9cb909f701d25d548e953bff81192b56      F   Other     1969.0\n",
              "2  d5da0f5b841b4f83383202807995027a      M   Other     1976.0\n",
              "3  13ed7f16810b17b8cee6de834ac79a48      F  Moscow     1966.0\n",
              "4  215fe3ea7d5bf0415e5504e2a7f33551      F   Other     1988.0"
            ]
          },
          "metadata": {
            "tags": []
          },
          "execution_count": 66
        }
      ]
    },
    {
      "cell_type": "code",
      "metadata": {
        "id": "J4mGhUn3dDcX",
        "colab_type": "code",
        "colab": {
          "base_uri": "https://localhost:8080/",
          "height": 34
        },
        "outputId": "442676ac-faf1-4555-a188-e7bf634b2a19"
      },
      "source": [
        "df_clients.gender.unique()"
      ],
      "execution_count": 4,
      "outputs": [
        {
          "output_type": "execute_result",
          "data": {
            "text/plain": [
              "array(['M', 'F', nan], dtype=object)"
            ]
          },
          "metadata": {
            "tags": []
          },
          "execution_count": 4
        }
      ]
    },
    {
      "cell_type": "code",
      "metadata": {
        "id": "XU07jdhtdfNF",
        "colab_type": "code",
        "colab": {}
      },
      "source": [
        "df_clients = df_clients.fillna('N')"
      ],
      "execution_count": 5,
      "outputs": []
    },
    {
      "cell_type": "code",
      "metadata": {
        "id": "QmcLk4lZyJMc",
        "colab_type": "code",
        "colab": {
          "base_uri": "https://localhost:8080/",
          "height": 202
        },
        "outputId": "066cfc30-fac3-444c-d8f2-00c6c620424c"
      },
      "source": [
        "df_clients.info()"
      ],
      "execution_count": 7,
      "outputs": [
        {
          "output_type": "stream",
          "text": [
            "<class 'pandas.core.frame.DataFrame'>\n",
            "RangeIndex: 99995 entries, 0 to 99994\n",
            "Data columns (total 4 columns):\n",
            " #   Column     Non-Null Count  Dtype \n",
            "---  ------     --------------  ----- \n",
            " 0   client_id  99995 non-null  object\n",
            " 1   gender     99995 non-null  object\n",
            " 2   city       99995 non-null  object\n",
            " 3   birthyear  99995 non-null  object\n",
            "dtypes: object(4)\n",
            "memory usage: 3.1+ MB\n"
          ],
          "name": "stdout"
        }
      ]
    },
    {
      "cell_type": "markdown",
      "metadata": {
        "id": "m2pB0WiJ8EC2",
        "colab_type": "text"
      },
      "source": [
        "## materials.csv"
      ]
    },
    {
      "cell_type": "code",
      "metadata": {
        "id": "MoQFqvYUBPQC",
        "colab_type": "code",
        "colab": {
          "base_uri": "https://localhost:8080/",
          "height": 215
        },
        "outputId": "32c43892-e643-4fcf-d943-0afe3d0b36a4"
      },
      "source": [
        "df_materials = pd.read_csv('materials.csv')\n",
        "df_materials.head()"
      ],
      "execution_count": 8,
      "outputs": [
        {
          "output_type": "execute_result",
          "data": {
            "text/html": [
              "<div>\n",
              "<style scoped>\n",
              "    .dataframe tbody tr th:only-of-type {\n",
              "        vertical-align: middle;\n",
              "    }\n",
              "\n",
              "    .dataframe tbody tr th {\n",
              "        vertical-align: top;\n",
              "    }\n",
              "\n",
              "    .dataframe thead th {\n",
              "        text-align: right;\n",
              "    }\n",
              "</style>\n",
              "<table border=\"1\" class=\"dataframe\">\n",
              "  <thead>\n",
              "    <tr style=\"text-align: right;\">\n",
              "      <th></th>\n",
              "      <th>material</th>\n",
              "      <th>hier_level_1</th>\n",
              "      <th>hier_level_2</th>\n",
              "      <th>hier_level_3</th>\n",
              "      <th>hier_level_4</th>\n",
              "      <th>vendor</th>\n",
              "      <th>is_private_label</th>\n",
              "      <th>is_alco</th>\n",
              "    </tr>\n",
              "  </thead>\n",
              "  <tbody>\n",
              "    <tr>\n",
              "      <th>0</th>\n",
              "      <td>35cbdf61de9e19c8b417327aaef14c88</td>\n",
              "      <td>NONFOOD</td>\n",
              "      <td>ea5d2f1c4608232e07d3aa3d998e5135</td>\n",
              "      <td>99cad265a1768cc2dd013f0e740300ae</td>\n",
              "      <td>9eed45f71360b4b1e2590637467220e5</td>\n",
              "      <td>212a38db0ddcd009f1e164cc8483485c</td>\n",
              "      <td>0</td>\n",
              "      <td>0</td>\n",
              "    </tr>\n",
              "    <tr>\n",
              "      <th>1</th>\n",
              "      <td>c0b0bf24d4ec71da3d304f761ec555d8</td>\n",
              "      <td>NONFOOD</td>\n",
              "      <td>ea5d2f1c4608232e07d3aa3d998e5135</td>\n",
              "      <td>99cad265a1768cc2dd013f0e740300ae</td>\n",
              "      <td>de2eb747e0896c050905a6b635ab800a</td>\n",
              "      <td>9b0b6c7d55413ad3b67761b7b125b534</td>\n",
              "      <td>0</td>\n",
              "      <td>0</td>\n",
              "    </tr>\n",
              "    <tr>\n",
              "      <th>2</th>\n",
              "      <td>f0fc5e654a81a7c4b8ba8d7c26546e14</td>\n",
              "      <td>NONFOOD</td>\n",
              "      <td>ea5d2f1c4608232e07d3aa3d998e5135</td>\n",
              "      <td>99cad265a1768cc2dd013f0e740300ae</td>\n",
              "      <td>8a969031832c535daf96e0c2aed8e814</td>\n",
              "      <td>9b0b6c7d55413ad3b67761b7b125b534</td>\n",
              "      <td>0</td>\n",
              "      <td>0</td>\n",
              "    </tr>\n",
              "    <tr>\n",
              "      <th>3</th>\n",
              "      <td>353693e64fb5f9e2d29746d7fe6edf1e</td>\n",
              "      <td>NONFOOD</td>\n",
              "      <td>ea5d2f1c4608232e07d3aa3d998e5135</td>\n",
              "      <td>b58f7d184743106a8a66028b7a28937c</td>\n",
              "      <td>4c0dc012ebb679a18b244c53c6f59b5a</td>\n",
              "      <td>a3c8be149d718771e892619bd310b961</td>\n",
              "      <td>0</td>\n",
              "      <td>0</td>\n",
              "    </tr>\n",
              "    <tr>\n",
              "      <th>4</th>\n",
              "      <td>5d9e0b4302ce95448cae72165ff4cf5b</td>\n",
              "      <td>NONFOOD</td>\n",
              "      <td>ea5d2f1c4608232e07d3aa3d998e5135</td>\n",
              "      <td>b58f7d184743106a8a66028b7a28937c</td>\n",
              "      <td>4c0dc012ebb679a18b244c53c6f59b5a</td>\n",
              "      <td>a3c8be149d718771e892619bd310b961</td>\n",
              "      <td>0</td>\n",
              "      <td>0</td>\n",
              "    </tr>\n",
              "  </tbody>\n",
              "</table>\n",
              "</div>"
            ],
            "text/plain": [
              "                           material hier_level_1  ... is_private_label is_alco\n",
              "0  35cbdf61de9e19c8b417327aaef14c88      NONFOOD  ...                0       0\n",
              "1  c0b0bf24d4ec71da3d304f761ec555d8      NONFOOD  ...                0       0\n",
              "2  f0fc5e654a81a7c4b8ba8d7c26546e14      NONFOOD  ...                0       0\n",
              "3  353693e64fb5f9e2d29746d7fe6edf1e      NONFOOD  ...                0       0\n",
              "4  5d9e0b4302ce95448cae72165ff4cf5b      NONFOOD  ...                0       0\n",
              "\n",
              "[5 rows x 8 columns]"
            ]
          },
          "metadata": {
            "tags": []
          },
          "execution_count": 8
        }
      ]
    },
    {
      "cell_type": "code",
      "metadata": {
        "id": "zZNfIT-pd49_",
        "colab_type": "code",
        "colab": {
          "base_uri": "https://localhost:8080/",
          "height": 168
        },
        "outputId": "56909e01-8c42-4c3a-d687-c70af9544c40"
      },
      "source": [
        "df_materials.isna().sum()"
      ],
      "execution_count": 9,
      "outputs": [
        {
          "output_type": "execute_result",
          "data": {
            "text/plain": [
              "material            0\n",
              "hier_level_1        0\n",
              "hier_level_2        0\n",
              "hier_level_3        0\n",
              "hier_level_4        0\n",
              "vendor              0\n",
              "is_private_label    0\n",
              "is_alco             0\n",
              "dtype: int64"
            ]
          },
          "metadata": {
            "tags": []
          },
          "execution_count": 9
        }
      ]
    },
    {
      "cell_type": "code",
      "metadata": {
        "id": "Kn7Tv_HN7mzb",
        "colab_type": "code",
        "colab": {
          "base_uri": "https://localhost:8080/",
          "height": 34
        },
        "outputId": "17fbdf3c-48f0-4f0d-b43d-16f277c952e2"
      },
      "source": [
        "len(df_materials['hier_level_4'].unique())"
      ],
      "execution_count": 10,
      "outputs": [
        {
          "output_type": "execute_result",
          "data": {
            "text/plain": [
              "2006"
            ]
          },
          "metadata": {
            "tags": []
          },
          "execution_count": 10
        }
      ]
    },
    {
      "cell_type": "code",
      "metadata": {
        "id": "AJk9UUd7vcwU",
        "colab_type": "code",
        "colab": {
          "base_uri": "https://localhost:8080/",
          "height": 269
        },
        "outputId": "f1797804-462b-4601-b8bb-be4cee00b105"
      },
      "source": [
        "df_materials.info()"
      ],
      "execution_count": 11,
      "outputs": [
        {
          "output_type": "stream",
          "text": [
            "<class 'pandas.core.frame.DataFrame'>\n",
            "RangeIndex: 105609 entries, 0 to 105608\n",
            "Data columns (total 8 columns):\n",
            " #   Column            Non-Null Count   Dtype \n",
            "---  ------            --------------   ----- \n",
            " 0   material          105609 non-null  object\n",
            " 1   hier_level_1      105609 non-null  object\n",
            " 2   hier_level_2      105609 non-null  object\n",
            " 3   hier_level_3      105609 non-null  object\n",
            " 4   hier_level_4      105609 non-null  object\n",
            " 5   vendor            105609 non-null  object\n",
            " 6   is_private_label  105609 non-null  int64 \n",
            " 7   is_alco           105609 non-null  int64 \n",
            "dtypes: int64(2), object(6)\n",
            "memory usage: 6.4+ MB\n"
          ],
          "name": "stdout"
        }
      ]
    },
    {
      "cell_type": "markdown",
      "metadata": {
        "id": "EX4Hf1se8Mnf",
        "colab_type": "text"
      },
      "source": [
        "## transactions.parquet"
      ]
    },
    {
      "cell_type": "code",
      "metadata": {
        "id": "jUC-dqXJr9wp",
        "colab_type": "code",
        "colab": {}
      },
      "source": [
        "df_transactions = pd.read_parquet('transactions.parquet', engine='pyarrow', use_threads=True)"
      ],
      "execution_count": 12,
      "outputs": []
    },
    {
      "cell_type": "code",
      "metadata": {
        "id": "kW7mVdyAWp-t",
        "colab_type": "code",
        "colab": {
          "base_uri": "https://localhost:8080/",
          "height": 185
        },
        "outputId": "023a4d9b-ab8d-4225-ddcf-7f67f29955ac"
      },
      "source": [
        "df_transactions.shape, df_transactions.isna().sum()"
      ],
      "execution_count": 13,
      "outputs": [
        {
          "output_type": "execute_result",
          "data": {
            "text/plain": [
              "((32109414, 9), chq_id          0\n",
              " plant           0\n",
              " chq_date        0\n",
              " chq_position    0\n",
              " client_id       0\n",
              " material        0\n",
              " sales_count     0\n",
              " sales_sum       0\n",
              " is_promo        0\n",
              " dtype: int64)"
            ]
          },
          "metadata": {
            "tags": []
          },
          "execution_count": 13
        }
      ]
    },
    {
      "cell_type": "code",
      "metadata": {
        "id": "Wm7yCFaW9xmZ",
        "colab_type": "code",
        "colab": {
          "base_uri": "https://localhost:8080/",
          "height": 299
        },
        "outputId": "b41acb5e-2d8f-4273-9385-17bfe61e4ae6"
      },
      "source": [
        "df_transactions.head()"
      ],
      "execution_count": 14,
      "outputs": [
        {
          "output_type": "execute_result",
          "data": {
            "text/html": [
              "<div>\n",
              "<style scoped>\n",
              "    .dataframe tbody tr th:only-of-type {\n",
              "        vertical-align: middle;\n",
              "    }\n",
              "\n",
              "    .dataframe tbody tr th {\n",
              "        vertical-align: top;\n",
              "    }\n",
              "\n",
              "    .dataframe thead th {\n",
              "        text-align: right;\n",
              "    }\n",
              "</style>\n",
              "<table border=\"1\" class=\"dataframe\">\n",
              "  <thead>\n",
              "    <tr style=\"text-align: right;\">\n",
              "      <th></th>\n",
              "      <th>chq_id</th>\n",
              "      <th>plant</th>\n",
              "      <th>chq_date</th>\n",
              "      <th>chq_position</th>\n",
              "      <th>client_id</th>\n",
              "      <th>material</th>\n",
              "      <th>sales_count</th>\n",
              "      <th>sales_sum</th>\n",
              "      <th>is_promo</th>\n",
              "    </tr>\n",
              "  </thead>\n",
              "  <tbody>\n",
              "    <tr>\n",
              "      <th>0</th>\n",
              "      <td>ce5b3d1c531348c5d0d8e859b6d0cf91</td>\n",
              "      <td>7cd86ecb09aa48c6e620b340f6a74592</td>\n",
              "      <td>2016-11-01</td>\n",
              "      <td>004</td>\n",
              "      <td>90fca68123e692a005a4edeadd94b2f2</td>\n",
              "      <td>232cfe8b28970434f685b737737b26d4</td>\n",
              "      <td>2.0</td>\n",
              "      <td>146.98</td>\n",
              "      <td>0</td>\n",
              "    </tr>\n",
              "    <tr>\n",
              "      <th>1</th>\n",
              "      <td>ce5b3d1c531348c5d0d8e859b6d0cf91</td>\n",
              "      <td>7cd86ecb09aa48c6e620b340f6a74592</td>\n",
              "      <td>2016-11-01</td>\n",
              "      <td>003</td>\n",
              "      <td>90fca68123e692a005a4edeadd94b2f2</td>\n",
              "      <td>12ec64451b8e426db16f3f05ea770901</td>\n",
              "      <td>1.0</td>\n",
              "      <td>249.99</td>\n",
              "      <td>1</td>\n",
              "    </tr>\n",
              "    <tr>\n",
              "      <th>2</th>\n",
              "      <td>ce5b3d1c531348c5d0d8e859b6d0cf91</td>\n",
              "      <td>7cd86ecb09aa48c6e620b340f6a74592</td>\n",
              "      <td>2016-11-01</td>\n",
              "      <td>012</td>\n",
              "      <td>90fca68123e692a005a4edeadd94b2f2</td>\n",
              "      <td>1212ff8ecf53aebef093ca8ae216db68</td>\n",
              "      <td>1.0</td>\n",
              "      <td>47.99</td>\n",
              "      <td>1</td>\n",
              "    </tr>\n",
              "    <tr>\n",
              "      <th>3</th>\n",
              "      <td>ce5b3d1c531348c5d0d8e859b6d0cf91</td>\n",
              "      <td>7cd86ecb09aa48c6e620b340f6a74592</td>\n",
              "      <td>2016-11-01</td>\n",
              "      <td>013</td>\n",
              "      <td>90fca68123e692a005a4edeadd94b2f2</td>\n",
              "      <td>1212ff8ecf53aebef093ca8ae216db68</td>\n",
              "      <td>1.0</td>\n",
              "      <td>47.99</td>\n",
              "      <td>1</td>\n",
              "    </tr>\n",
              "    <tr>\n",
              "      <th>4</th>\n",
              "      <td>ce5b3d1c531348c5d0d8e859b6d0cf91</td>\n",
              "      <td>7cd86ecb09aa48c6e620b340f6a74592</td>\n",
              "      <td>2016-11-01</td>\n",
              "      <td>011</td>\n",
              "      <td>90fca68123e692a005a4edeadd94b2f2</td>\n",
              "      <td>571c6d3b559db8445e05265649eb30ab</td>\n",
              "      <td>2.0</td>\n",
              "      <td>53.98</td>\n",
              "      <td>1</td>\n",
              "    </tr>\n",
              "  </tbody>\n",
              "</table>\n",
              "</div>"
            ],
            "text/plain": [
              "                             chq_id  ... is_promo\n",
              "0  ce5b3d1c531348c5d0d8e859b6d0cf91  ...        0\n",
              "1  ce5b3d1c531348c5d0d8e859b6d0cf91  ...        1\n",
              "2  ce5b3d1c531348c5d0d8e859b6d0cf91  ...        1\n",
              "3  ce5b3d1c531348c5d0d8e859b6d0cf91  ...        1\n",
              "4  ce5b3d1c531348c5d0d8e859b6d0cf91  ...        1\n",
              "\n",
              "[5 rows x 9 columns]"
            ]
          },
          "metadata": {
            "tags": []
          },
          "execution_count": 14
        }
      ]
    },
    {
      "cell_type": "code",
      "metadata": {
        "id": "6LMf-VmOKmnQ",
        "colab_type": "code",
        "colab": {
          "base_uri": "https://localhost:8080/",
          "height": 34
        },
        "outputId": "375b7220-3b8c-4a80-dc1e-a4b0e30d9e08"
      },
      "source": [
        "df_transactions.chq_date.min(), df_transactions.chq_date.max()"
      ],
      "execution_count": 15,
      "outputs": [
        {
          "output_type": "execute_result",
          "data": {
            "text/plain": [
              "(Timestamp('2016-10-04 00:00:00'), Timestamp('2017-10-04 00:00:00'))"
            ]
          },
          "metadata": {
            "tags": []
          },
          "execution_count": 15
        }
      ]
    },
    {
      "cell_type": "code",
      "metadata": {
        "id": "D11KZIUar9rm",
        "colab_type": "code",
        "colab": {
          "base_uri": "https://localhost:8080/",
          "height": 34
        },
        "outputId": "5bc289b1-139e-46c2-98ff-44f043653719"
      },
      "source": [
        "(df_transactions.client_id.unique()).shape"
      ],
      "execution_count": 16,
      "outputs": [
        {
          "output_type": "execute_result",
          "data": {
            "text/plain": [
              "(100000,)"
            ]
          },
          "metadata": {
            "tags": []
          },
          "execution_count": 16
        }
      ]
    },
    {
      "cell_type": "code",
      "metadata": {
        "id": "dh_jWG4NyXIj",
        "colab_type": "code",
        "colab": {
          "base_uri": "https://localhost:8080/",
          "height": 286
        },
        "outputId": "456a7220-3187-4884-a13e-61e8901d0d8a"
      },
      "source": [
        "df_transactions.info()"
      ],
      "execution_count": 17,
      "outputs": [
        {
          "output_type": "stream",
          "text": [
            "<class 'pandas.core.frame.DataFrame'>\n",
            "RangeIndex: 32109414 entries, 0 to 32109413\n",
            "Data columns (total 9 columns):\n",
            " #   Column        Dtype         \n",
            "---  ------        -----         \n",
            " 0   chq_id        object        \n",
            " 1   plant         object        \n",
            " 2   chq_date      datetime64[ns]\n",
            " 3   chq_position  object        \n",
            " 4   client_id     object        \n",
            " 5   material      object        \n",
            " 6   sales_count   float64       \n",
            " 7   sales_sum     float64       \n",
            " 8   is_promo      int64         \n",
            "dtypes: datetime64[ns](1), float64(2), int64(1), object(5)\n",
            "memory usage: 2.2+ GB\n"
          ],
          "name": "stdout"
        }
      ]
    },
    {
      "cell_type": "markdown",
      "metadata": {
        "id": "iBZbITpy8VgP",
        "colab_type": "text"
      },
      "source": [
        "## plants.csv"
      ]
    },
    {
      "cell_type": "code",
      "metadata": {
        "id": "nSOdAeY1-PFS",
        "colab_type": "code",
        "colab": {
          "base_uri": "https://localhost:8080/",
          "height": 195
        },
        "outputId": "76e26152-f43c-47ea-c81c-77f32a962712"
      },
      "source": [
        "df_plants = pd.read_csv('plants.csv')\n",
        "df_plants.head()"
      ],
      "execution_count": 18,
      "outputs": [
        {
          "output_type": "execute_result",
          "data": {
            "text/html": [
              "<div>\n",
              "<style scoped>\n",
              "    .dataframe tbody tr th:only-of-type {\n",
              "        vertical-align: middle;\n",
              "    }\n",
              "\n",
              "    .dataframe tbody tr th {\n",
              "        vertical-align: top;\n",
              "    }\n",
              "\n",
              "    .dataframe thead th {\n",
              "        text-align: right;\n",
              "    }\n",
              "</style>\n",
              "<table border=\"1\" class=\"dataframe\">\n",
              "  <thead>\n",
              "    <tr style=\"text-align: right;\">\n",
              "      <th></th>\n",
              "      <th>plant</th>\n",
              "      <th>plant_type</th>\n",
              "      <th>city</th>\n",
              "    </tr>\n",
              "  </thead>\n",
              "  <tbody>\n",
              "    <tr>\n",
              "      <th>0</th>\n",
              "      <td>95b09698fda1f64af16708ffb859eab9</td>\n",
              "      <td>HM</td>\n",
              "      <td>St. Petersburg</td>\n",
              "    </tr>\n",
              "    <tr>\n",
              "      <th>1</th>\n",
              "      <td>926abae84a4bd33c834bc6b981b8cf30</td>\n",
              "      <td>HM</td>\n",
              "      <td>St. Petersburg</td>\n",
              "    </tr>\n",
              "    <tr>\n",
              "      <th>2</th>\n",
              "      <td>ae2bac2e4b4da805d01b2952d7e35ba4</td>\n",
              "      <td>HM</td>\n",
              "      <td>St. Petersburg</td>\n",
              "    </tr>\n",
              "    <tr>\n",
              "      <th>3</th>\n",
              "      <td>0e7e3cf0ded4d9db8b376b317c007f99</td>\n",
              "      <td>HM</td>\n",
              "      <td>St. Petersburg</td>\n",
              "    </tr>\n",
              "    <tr>\n",
              "      <th>4</th>\n",
              "      <td>540bd55a2cf295b8ea9cd78650e89d03</td>\n",
              "      <td>HM</td>\n",
              "      <td>St. Petersburg</td>\n",
              "    </tr>\n",
              "  </tbody>\n",
              "</table>\n",
              "</div>"
            ],
            "text/plain": [
              "                              plant plant_type            city\n",
              "0  95b09698fda1f64af16708ffb859eab9         HM  St. Petersburg\n",
              "1  926abae84a4bd33c834bc6b981b8cf30         HM  St. Petersburg\n",
              "2  ae2bac2e4b4da805d01b2952d7e35ba4         HM  St. Petersburg\n",
              "3  0e7e3cf0ded4d9db8b376b317c007f99         HM  St. Petersburg\n",
              "4  540bd55a2cf295b8ea9cd78650e89d03         HM  St. Petersburg"
            ]
          },
          "metadata": {
            "tags": []
          },
          "execution_count": 18
        }
      ]
    },
    {
      "cell_type": "code",
      "metadata": {
        "id": "Y8LZaAsTesuE",
        "colab_type": "code",
        "colab": {
          "base_uri": "https://localhost:8080/",
          "height": 84
        },
        "outputId": "ee826fbc-dedb-49d8-f800-a5638efd8ffe"
      },
      "source": [
        "df_plants.isna().sum()"
      ],
      "execution_count": 19,
      "outputs": [
        {
          "output_type": "execute_result",
          "data": {
            "text/plain": [
              "plant         0\n",
              "plant_type    0\n",
              "city          0\n",
              "dtype: int64"
            ]
          },
          "metadata": {
            "tags": []
          },
          "execution_count": 19
        }
      ]
    },
    {
      "cell_type": "markdown",
      "metadata": {
        "id": "Zhgw5M3hJies",
        "colab_type": "text"
      },
      "source": [
        "# Part 2. Encoding data"
      ]
    },
    {
      "cell_type": "code",
      "metadata": {
        "id": "CsyWegLQ-PDP",
        "colab_type": "code",
        "colab": {}
      },
      "source": [
        "!pip install dask[dataframe] > /dev/null\n",
        "import dask.dataframe as dd\n",
        "\n",
        "from sklearn.preprocessing import LabelEncoder"
      ],
      "execution_count": null,
      "outputs": []
    },
    {
      "cell_type": "code",
      "metadata": {
        "id": "7NDdtVsY-O8G",
        "colab_type": "code",
        "colab": {}
      },
      "source": [
        "enc_client = LabelEncoder()\n",
        "df_transactions['client_id'] = enc_client.fit_transform(df_transactions['client_id'])\n",
        "df_clients['client_id'] = enc_client.transform(df_clients['client_id'])"
      ],
      "execution_count": 22,
      "outputs": []
    },
    {
      "cell_type": "code",
      "metadata": {
        "id": "eoHhcuPiVUmW",
        "colab_type": "code",
        "colab": {}
      },
      "source": [
        "enc_store = LabelEncoder()\n",
        "df_plants['plant'] = enc_store.fit_transform(df_plants['plant'])\n",
        "df_transactions['plant'] = enc_store.transform(df_transactions['plant'])"
      ],
      "execution_count": 23,
      "outputs": []
    },
    {
      "cell_type": "code",
      "metadata": {
        "id": "hm5zniTiZCEW",
        "colab_type": "code",
        "colab": {}
      },
      "source": [
        "enc_material = LabelEncoder()\n",
        "df_transactions['material'] = enc_material.fit_transform(df_transactions['material'])\n",
        "df_materials['material'] = enc_material.transform(df_materials['material'])"
      ],
      "execution_count": 24,
      "outputs": []
    },
    {
      "cell_type": "code",
      "metadata": {
        "id": "eq9m5K4Xak9f",
        "colab_type": "code",
        "colab": {}
      },
      "source": [
        "enc_vendor = LabelEncoder()\n",
        "df_materials['vendor'] = enc_vendor.fit_transform(df_materials['vendor'])\n",
        "enc_vendor = LabelEncoder()\n",
        "df_materials['hier_level_2'] = enc_vendor.fit_transform(df_materials['hier_level_2'])\n",
        "enc_vendor = LabelEncoder()\n",
        "df_materials['hier_level_3'] = enc_vendor.fit_transform(df_materials['hier_level_3'])\n",
        "enc_vendor = LabelEncoder()\n",
        "df_materials['hier_level_4'] = enc_vendor.fit_transform(df_materials['hier_level_4'])"
      ],
      "execution_count": 25,
      "outputs": []
    },
    {
      "cell_type": "code",
      "metadata": {
        "id": "gRqm6MLIa3oc",
        "colab_type": "code",
        "colab": {
          "base_uri": "https://localhost:8080/",
          "height": 195
        },
        "outputId": "95779ffb-ba77-48b3-e5ec-9e9ee5296c62"
      },
      "source": [
        "df_transactions.head()"
      ],
      "execution_count": 29,
      "outputs": [
        {
          "output_type": "execute_result",
          "data": {
            "text/html": [
              "<div>\n",
              "<style scoped>\n",
              "    .dataframe tbody tr th:only-of-type {\n",
              "        vertical-align: middle;\n",
              "    }\n",
              "\n",
              "    .dataframe tbody tr th {\n",
              "        vertical-align: top;\n",
              "    }\n",
              "\n",
              "    .dataframe thead th {\n",
              "        text-align: right;\n",
              "    }\n",
              "</style>\n",
              "<table border=\"1\" class=\"dataframe\">\n",
              "  <thead>\n",
              "    <tr style=\"text-align: right;\">\n",
              "      <th></th>\n",
              "      <th>chq_id</th>\n",
              "      <th>plant</th>\n",
              "      <th>chq_date</th>\n",
              "      <th>chq_position</th>\n",
              "      <th>client_id</th>\n",
              "      <th>material</th>\n",
              "      <th>sales_count</th>\n",
              "      <th>sales_sum</th>\n",
              "      <th>is_promo</th>\n",
              "    </tr>\n",
              "  </thead>\n",
              "  <tbody>\n",
              "    <tr>\n",
              "      <th>0</th>\n",
              "      <td>ce5b3d1c531348c5d0d8e859b6d0cf91</td>\n",
              "      <td>179</td>\n",
              "      <td>2016-11-01</td>\n",
              "      <td>004</td>\n",
              "      <td>56437</td>\n",
              "      <td>14213</td>\n",
              "      <td>2.0</td>\n",
              "      <td>146.98</td>\n",
              "      <td>0</td>\n",
              "    </tr>\n",
              "    <tr>\n",
              "      <th>1</th>\n",
              "      <td>ce5b3d1c531348c5d0d8e859b6d0cf91</td>\n",
              "      <td>179</td>\n",
              "      <td>2016-11-01</td>\n",
              "      <td>003</td>\n",
              "      <td>56437</td>\n",
              "      <td>7629</td>\n",
              "      <td>1.0</td>\n",
              "      <td>249.99</td>\n",
              "      <td>1</td>\n",
              "    </tr>\n",
              "    <tr>\n",
              "      <th>2</th>\n",
              "      <td>ce5b3d1c531348c5d0d8e859b6d0cf91</td>\n",
              "      <td>179</td>\n",
              "      <td>2016-11-01</td>\n",
              "      <td>012</td>\n",
              "      <td>56437</td>\n",
              "      <td>7264</td>\n",
              "      <td>1.0</td>\n",
              "      <td>47.99</td>\n",
              "      <td>1</td>\n",
              "    </tr>\n",
              "    <tr>\n",
              "      <th>3</th>\n",
              "      <td>ce5b3d1c531348c5d0d8e859b6d0cf91</td>\n",
              "      <td>179</td>\n",
              "      <td>2016-11-01</td>\n",
              "      <td>013</td>\n",
              "      <td>56437</td>\n",
              "      <td>7264</td>\n",
              "      <td>1.0</td>\n",
              "      <td>47.99</td>\n",
              "      <td>1</td>\n",
              "    </tr>\n",
              "    <tr>\n",
              "      <th>4</th>\n",
              "      <td>ce5b3d1c531348c5d0d8e859b6d0cf91</td>\n",
              "      <td>179</td>\n",
              "      <td>2016-11-01</td>\n",
              "      <td>011</td>\n",
              "      <td>56437</td>\n",
              "      <td>35784</td>\n",
              "      <td>2.0</td>\n",
              "      <td>53.98</td>\n",
              "      <td>1</td>\n",
              "    </tr>\n",
              "  </tbody>\n",
              "</table>\n",
              "</div>"
            ],
            "text/plain": [
              "                             chq_id  plant  ... sales_sum is_promo\n",
              "0  ce5b3d1c531348c5d0d8e859b6d0cf91    179  ...    146.98        0\n",
              "1  ce5b3d1c531348c5d0d8e859b6d0cf91    179  ...    249.99        1\n",
              "2  ce5b3d1c531348c5d0d8e859b6d0cf91    179  ...     47.99        1\n",
              "3  ce5b3d1c531348c5d0d8e859b6d0cf91    179  ...     47.99        1\n",
              "4  ce5b3d1c531348c5d0d8e859b6d0cf91    179  ...     53.98        1\n",
              "\n",
              "[5 rows x 9 columns]"
            ]
          },
          "metadata": {
            "tags": []
          },
          "execution_count": 29
        }
      ]
    },
    {
      "cell_type": "code",
      "metadata": {
        "id": "PZ7fSvfdcHeX",
        "colab_type": "code",
        "colab": {}
      },
      "source": [
        "enc_city = LabelEncoder()\n",
        "df_clients['city'] = enc_city.fit_transform(df_clients['city'])\n",
        "df_plants['city'] = enc_city.transform(df_plants['city'])"
      ],
      "execution_count": 32,
      "outputs": []
    },
    {
      "cell_type": "code",
      "metadata": {
        "id": "OgNK7y_SfTPy",
        "colab_type": "code",
        "colab": {}
      },
      "source": [
        "test = LabelEncoder()\n",
        "df_plants['plant_type'] = enc_gender1.fit_transform(df_plants['plant_type'])"
      ],
      "execution_count": null,
      "outputs": []
    },
    {
      "cell_type": "code",
      "metadata": {
        "id": "symj-Eobbeeq",
        "colab_type": "code",
        "colab": {}
      },
      "source": [
        "new_trans = df_transactions.merge(frequency_df, on='Customer ID')"
      ],
      "execution_count": null,
      "outputs": []
    },
    {
      "cell_type": "code",
      "metadata": {
        "id": "hGlHaXyHb-Cs",
        "colab_type": "code",
        "colab": {
          "base_uri": "https://localhost:8080/",
          "height": 195
        },
        "outputId": "1d429e36-9a81-457b-dd17-746d27fc7c82"
      },
      "source": [
        "enc_vendor = LabelEncoder()\n",
        "df_clients['gender'] = enc_vendor.fit_transform(df_clients['gender'])"
      ],
      "execution_count": 35,
      "outputs": [
        {
          "output_type": "execute_result",
          "data": {
            "text/html": [
              "<div>\n",
              "<style scoped>\n",
              "    .dataframe tbody tr th:only-of-type {\n",
              "        vertical-align: middle;\n",
              "    }\n",
              "\n",
              "    .dataframe tbody tr th {\n",
              "        vertical-align: top;\n",
              "    }\n",
              "\n",
              "    .dataframe thead th {\n",
              "        text-align: right;\n",
              "    }\n",
              "</style>\n",
              "<table border=\"1\" class=\"dataframe\">\n",
              "  <thead>\n",
              "    <tr style=\"text-align: right;\">\n",
              "      <th></th>\n",
              "      <th>client_id</th>\n",
              "      <th>gender</th>\n",
              "      <th>city</th>\n",
              "      <th>birthyear</th>\n",
              "    </tr>\n",
              "  </thead>\n",
              "  <tbody>\n",
              "    <tr>\n",
              "      <th>0</th>\n",
              "      <td>10144</td>\n",
              "      <td>1</td>\n",
              "      <td>1</td>\n",
              "      <td>1990</td>\n",
              "    </tr>\n",
              "    <tr>\n",
              "      <th>1</th>\n",
              "      <td>61042</td>\n",
              "      <td>0</td>\n",
              "      <td>1</td>\n",
              "      <td>1969</td>\n",
              "    </tr>\n",
              "    <tr>\n",
              "      <th>2</th>\n",
              "      <td>83456</td>\n",
              "      <td>1</td>\n",
              "      <td>1</td>\n",
              "      <td>1976</td>\n",
              "    </tr>\n",
              "    <tr>\n",
              "      <th>3</th>\n",
              "      <td>7725</td>\n",
              "      <td>0</td>\n",
              "      <td>0</td>\n",
              "      <td>1966</td>\n",
              "    </tr>\n",
              "    <tr>\n",
              "      <th>4</th>\n",
              "      <td>12977</td>\n",
              "      <td>0</td>\n",
              "      <td>1</td>\n",
              "      <td>1988</td>\n",
              "    </tr>\n",
              "  </tbody>\n",
              "</table>\n",
              "</div>"
            ],
            "text/plain": [
              "   client_id  gender  city birthyear\n",
              "0      10144       1     1      1990\n",
              "1      61042       0     1      1969\n",
              "2      83456       1     1      1976\n",
              "3       7725       0     0      1966\n",
              "4      12977       0     1      1988"
            ]
          },
          "metadata": {
            "tags": []
          },
          "execution_count": 35
        }
      ]
    },
    {
      "cell_type": "code",
      "metadata": {
        "id": "5j9cSUswf51B",
        "colab_type": "code",
        "colab": {}
      },
      "source": [
        "enc_chq = LabelEncoder()\n",
        "df_transactions['chq_id'] = enc_chq.fit_transform(df_transactions['chq_id'])"
      ],
      "execution_count": 37,
      "outputs": []
    },
    {
      "cell_type": "code",
      "metadata": {
        "id": "Vr6DzSTRgLaJ",
        "colab_type": "code",
        "colab": {}
      },
      "source": [
        "enc_chq1 = LabelEncoder()\n",
        "df_materials['hier_level_1'] = enc_chq1.fit_transform(df_materials['hier_level_1'])"
      ],
      "execution_count": null,
      "outputs": []
    },
    {
      "cell_type": "code",
      "metadata": {
        "id": "HAMsmYoHhPcK",
        "colab_type": "code",
        "colab": {}
      },
      "source": [
        "cp new_hack_data.zip drive/My\\ Drive/"
      ],
      "execution_count": 59,
      "outputs": []
    },
    {
      "cell_type": "code",
      "metadata": {
        "id": "Yt3P63AfkWHX",
        "colab_type": "code",
        "colab": {
          "base_uri": "https://localhost:8080/",
          "height": 84
        },
        "outputId": "0aa68c68-8692-47e5-b12e-75556bd036a4"
      },
      "source": [
        "!zip -r new_hack_data.zip c.csv p.csv m.csv t.parquet"
      ],
      "execution_count": 58,
      "outputs": [
        {
          "output_type": "stream",
          "text": [
            "  adding: c.csv (deflated 67%)\n",
            "  adding: p.csv (deflated 64%)\n",
            "  adding: m.csv (deflated 72%)\n",
            "  adding: t.parquet (deflated 16%)\n"
          ],
          "name": "stdout"
        }
      ]
    },
    {
      "cell_type": "markdown",
      "metadata": {
        "id": "50wC96Sw9CAG",
        "colab_type": "text"
      },
      "source": [
        "# Encoded and compressed data you can find here: \n",
        "### https://drive.google.com/file/d/1041MtZcK-DuiXZXYsx_s0cx8TE__I7Y3/view?usp=sharing"
      ]
    }
  ]
}